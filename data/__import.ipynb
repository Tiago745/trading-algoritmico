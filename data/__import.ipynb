{
 "cells": [
  {
   "cell_type": "code",
   "execution_count": 8,
   "id": "e370515e",
   "metadata": {},
   "outputs": [
    {
     "name": "stdout",
     "output_type": "stream",
     "text": [
      "Defaulting to user installation because normal site-packages is not writeable\n",
      "Collecting python-binance\n",
      "  Using cached python_binance-1.0.29-py2.py3-none-any.whl.metadata (13 kB)\n",
      "Requirement already satisfied: requests in c:\\programdata\\anaconda3\\lib\\site-packages (from python-binance) (2.32.2)\n",
      "Requirement already satisfied: six in c:\\programdata\\anaconda3\\lib\\site-packages (from python-binance) (1.16.0)\n",
      "Collecting dateparser (from python-binance)\n",
      "  Using cached dateparser-1.2.2-py3-none-any.whl.metadata (29 kB)\n",
      "Requirement already satisfied: aiohttp in c:\\programdata\\anaconda3\\lib\\site-packages (from python-binance) (3.9.5)\n",
      "Requirement already satisfied: websockets in c:\\users\\tiago\\appdata\\roaming\\python\\python312\\site-packages (from python-binance) (15.0.1)\n",
      "Collecting pycryptodome (from python-binance)\n",
      "  Using cached pycryptodome-3.23.0-cp37-abi3-win_amd64.whl.metadata (3.5 kB)\n",
      "Requirement already satisfied: aiosignal>=1.1.2 in c:\\programdata\\anaconda3\\lib\\site-packages (from aiohttp->python-binance) (1.2.0)\n",
      "Requirement already satisfied: attrs>=17.3.0 in c:\\programdata\\anaconda3\\lib\\site-packages (from aiohttp->python-binance) (23.1.0)\n",
      "Requirement already satisfied: frozenlist>=1.1.1 in c:\\programdata\\anaconda3\\lib\\site-packages (from aiohttp->python-binance) (1.4.0)\n",
      "Requirement already satisfied: multidict<7.0,>=4.5 in c:\\programdata\\anaconda3\\lib\\site-packages (from aiohttp->python-binance) (6.0.4)\n",
      "Requirement already satisfied: yarl<2.0,>=1.0 in c:\\programdata\\anaconda3\\lib\\site-packages (from aiohttp->python-binance) (1.9.3)\n",
      "Requirement already satisfied: python-dateutil>=2.7.0 in c:\\programdata\\anaconda3\\lib\\site-packages (from dateparser->python-binance) (2.9.0.post0)\n",
      "Collecting pytz>=2024.2 (from dateparser->python-binance)\n",
      "  Using cached pytz-2025.2-py2.py3-none-any.whl.metadata (22 kB)\n",
      "Collecting regex>=2024.9.11 (from dateparser->python-binance)\n",
      "  Downloading regex-2025.7.34-cp312-cp312-win_amd64.whl.metadata (41 kB)\n",
      "     ---------------------------------------- 0.0/41.5 kB ? eta -:--:--\n",
      "     --------- ------------------------------ 10.2/41.5 kB ? eta -:--:--\n",
      "     -------------------------------------  41.0/41.5 kB 495.5 kB/s eta 0:00:01\n",
      "     -------------------------------------- 41.5/41.5 kB 401.1 kB/s eta 0:00:00\n",
      "Collecting tzlocal>=0.2 (from dateparser->python-binance)\n",
      "  Using cached tzlocal-5.3.1-py3-none-any.whl.metadata (7.6 kB)\n",
      "Requirement already satisfied: charset-normalizer<4,>=2 in c:\\programdata\\anaconda3\\lib\\site-packages (from requests->python-binance) (2.0.4)\n",
      "Requirement already satisfied: idna<4,>=2.5 in c:\\programdata\\anaconda3\\lib\\site-packages (from requests->python-binance) (3.7)\n",
      "Requirement already satisfied: urllib3<3,>=1.21.1 in c:\\programdata\\anaconda3\\lib\\site-packages (from requests->python-binance) (2.2.2)\n",
      "Requirement already satisfied: certifi>=2017.4.17 in c:\\programdata\\anaconda3\\lib\\site-packages (from requests->python-binance) (2024.6.2)\n",
      "Requirement already satisfied: tzdata in c:\\programdata\\anaconda3\\lib\\site-packages (from tzlocal>=0.2->dateparser->python-binance) (2023.3)\n",
      "Using cached python_binance-1.0.29-py2.py3-none-any.whl (130 kB)\n",
      "Using cached dateparser-1.2.2-py3-none-any.whl (315 kB)\n",
      "Using cached pycryptodome-3.23.0-cp37-abi3-win_amd64.whl (1.8 MB)\n",
      "Using cached pytz-2025.2-py2.py3-none-any.whl (509 kB)\n",
      "Downloading regex-2025.7.34-cp312-cp312-win_amd64.whl (275 kB)\n",
      "   ---------------------------------------- 0.0/275.4 kB ? eta -:--:--\n",
      "   -------------------------------------- - 266.2/275.4 kB 8.3 MB/s eta 0:00:01\n",
      "   ---------------------------------------- 275.4/275.4 kB 5.6 MB/s eta 0:00:00\n",
      "Using cached tzlocal-5.3.1-py3-none-any.whl (18 kB)\n",
      "Installing collected packages: pytz, tzlocal, regex, pycryptodome, dateparser, python-binance\n",
      "Successfully installed dateparser-1.2.2 pycryptodome-3.23.0 python-binance-1.0.29 pytz-2025.2 regex-2025.7.34 tzlocal-5.3.1\n",
      "Note: you may need to restart the kernel to use updated packages.\n"
     ]
    },
    {
     "name": "stderr",
     "output_type": "stream",
     "text": [
      "  WARNING: The script dateparser-download.exe is installed in 'C:\\Users\\tiago\\AppData\\Roaming\\Python\\Python312\\Scripts' which is not on PATH.\n",
      "  Consider adding this directory to PATH or, if you prefer to suppress this warning, use --no-warn-script-location.\n"
     ]
    }
   ],
   "source": [
    "pip install python-binance"
   ]
  },
  {
   "cell_type": "code",
   "execution_count": 11,
   "id": "09a93036",
   "metadata": {},
   "outputs": [],
   "source": [
    "from binance.client import Client\n",
    "import pandas as pd\n",
    "\n",
    "# A chave da API não é necessária para pegar dados históricos\n",
    "client = Client(api_key='', api_secret='')\n",
    "\n",
    "# Função para pegar dados históricos de velas\n",
    "def get_historical_klines(symbol, interval, start_str=None, end_str=None):\n",
    "    return client.get_historical_klines(symbol, interval, start_str, end_str)\n",
    "\n",
    "symbol = 'BTCUSDT'\n",
    "begin_symbols1 = ['BTC', 'WBTC', 'BNB', 'ETH', 'SOL', 'ADA', 'XRP']\n",
    "begin_symbols2 = ['DOGE', 'LTC', 'TRX', 'DOT', 'SHIB']\n",
    "begin_symbols3 = ['MATIC', 'BCH', 'TON', 'DAI', 'AVAX']\n",
    "\n",
    "end_symbol = 'USDT'\n",
    "\n",
    "interval = Client.KLINE_INTERVAL_1DAY\n",
    "start_str = '20 Jul, 2023'\n",
    "end_str = '20 Jul, 2025'\n",
    "\n",
    "for moeda in begin_symbols3:\n",
    "    my_symbol = moeda+end_symbol\n",
    "\n",
    "    klines = get_historical_klines(my_symbol, interval, start_str, end_str)\n",
    "\n",
    "    # Converte os dados para um DataFrame do Pandas\n",
    "    df = pd.DataFrame(klines, \n",
    "                        columns=['timestamp', 'open', 'high', 'low', 'close', 'volume',\n",
    "                                'close_time', 'quote_asset_volume', 'number_of_trades',\n",
    "                                'taker_buy_base_asset_volume', 'taker_buy_quote_asset_volume',\n",
    "                                'ignore'\n",
    "                                ] )\n",
    "\n",
    "    # Converte o timestamp para um formato legível\n",
    "    df['timestamp'] = pd.to_datetime(df['timestamp'], unit='ms')\n",
    "\n",
    "    # Salva o DataFrame em um arquivo CSV\n",
    "    df.to_csv(f'fechamentos/{my_symbol}_{interval}_data.csv', index=False)"
   ]
  }
 ],
 "metadata": {
  "kernelspec": {
   "display_name": "base",
   "language": "python",
   "name": "python3"
  },
  "language_info": {
   "codemirror_mode": {
    "name": "ipython",
    "version": 3
   },
   "file_extension": ".py",
   "mimetype": "text/x-python",
   "name": "python",
   "nbconvert_exporter": "python",
   "pygments_lexer": "ipython3",
   "version": "3.12.4"
  }
 },
 "nbformat": 4,
 "nbformat_minor": 5
}
