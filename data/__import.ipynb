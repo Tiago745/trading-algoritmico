{
 "cells": [
  {
   "cell_type": "code",
   "execution_count": null,
   "id": "09a93036",
   "metadata": {},
   "outputs": [],
   "source": [
    "from binance.client import Client\n",
    "import pandas as pd\n",
    "\n",
    "# A chave da API não é necessária para pegar dados históricos\n",
    "client = Client(api_key='', api_secret='')\n",
    "\n",
    "# Função para pegar dados históricos de velas\n",
    "def get_historical_klines(symbol, interval, start_str=None, end_str=None):\n",
    "    return client.get_historical_klines(symbol, interval, start_str, end_str)\n",
    "\n",
    "symbol = 'BTCUSDT'\n",
    "begin_symbols = ['BTC', 'WBTC', 'BNB', 'ETH', 'SOL', 'ADA', 'XRP']\n",
    "end_symbol = 'USDT'\n",
    "\n",
    "interval = Client.KLINE_INTERVAL_1DAY\n",
    "start_str = '20 Jul, 2023'\n",
    "end_str = '20 Jul, 2025'\n",
    "\n",
    "klines = get_historical_klines(symbol, interval, start_str, end_str)\n",
    "\n",
    "# Converte os dados para um DataFrame do Pandas\n",
    "df = pd.DataFrame(klines, \n",
    "                    columns=['timestamp', 'open', 'high', 'low', 'close', 'volume',\n",
    "                            'close_time', 'quote_asset_volume', 'number_of_trades',\n",
    "                            'taker_buy_base_asset_volume', 'taker_buy_quote_asset_volume',\n",
    "                            'ignore'\n",
    "                            ] )\n",
    "\n",
    "# Converte o timestamp para um formato legível\n",
    "df['timestamp'] = pd.to_datetime(df['timestamp'], unit='ms')\n",
    "\n",
    "# Salva o DataFrame em um arquivo CSV\n",
    "df.to_csv(f'fechamentos/{symbol}_{interval}_data.csv', index=False)"
   ]
  }
 ],
 "metadata": {
  "kernelspec": {
   "display_name": "Python 3",
   "language": "python",
   "name": "python3"
  },
  "language_info": {
   "codemirror_mode": {
    "name": "ipython",
    "version": 3
   },
   "file_extension": ".py",
   "mimetype": "text/x-python",
   "name": "python",
   "nbconvert_exporter": "python",
   "pygments_lexer": "ipython3",
   "version": "3.11.9"
  }
 },
 "nbformat": 4,
 "nbformat_minor": 5
}
