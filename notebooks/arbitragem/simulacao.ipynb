{
 "cells": [
  {
   "cell_type": "markdown",
   "id": "058a31ba",
   "metadata": {},
   "source": [
    "## Simulação"
   ]
  },
  {
   "cell_type": "code",
   "execution_count": 5,
   "id": "b3d1aee6",
   "metadata": {},
   "outputs": [
    {
     "name": "stdout",
     "output_type": "stream",
     "text": [
      "As séries BTC-ETH não são cointegradas (p-valor = 0.9788)\n"
     ]
    },
    {
     "ename": "TypeError",
     "evalue": "unsupported operand type(s) for *: 'NoneType' and 'int'",
     "output_type": "error",
     "traceback": [
      "\u001b[31m---------------------------------------------------------------------------\u001b[39m",
      "\u001b[31mTypeError\u001b[39m                                 Traceback (most recent call last)",
      "\u001b[36mCell\u001b[39m\u001b[36m \u001b[39m\u001b[32mIn[5]\u001b[39m\u001b[32m, line 14\u001b[39m\n\u001b[32m      1\u001b[39m \u001b[38;5;28;01mimport\u001b[39;00m\u001b[38;5;250m \u001b[39m\u001b[34;01marbitragem\u001b[39;00m\u001b[38;5;250m \u001b[39m\u001b[38;5;28;01mas\u001b[39;00m\u001b[38;5;250m \u001b[39m\u001b[34;01mutils\u001b[39;00m\n\u001b[32m      4\u001b[39m retorno_pct, retorno_risco, sharpe = utils.simular_estrategia(\n\u001b[32m      5\u001b[39m     moeda1=\u001b[33m'\u001b[39m\u001b[33mBTC\u001b[39m\u001b[33m'\u001b[39m,\n\u001b[32m      6\u001b[39m     moeda2=\u001b[33m'\u001b[39m\u001b[33mETH\u001b[39m\u001b[33m'\u001b[39m,\n\u001b[32m   (...)\u001b[39m\u001b[32m     11\u001b[39m     janela=\u001b[32m60\u001b[39m\n\u001b[32m     12\u001b[39m )\n\u001b[32m---> \u001b[39m\u001b[32m14\u001b[39m \u001b[38;5;28mprint\u001b[39m(\u001b[33mf\u001b[39m\u001b[33m\"\u001b[39m\u001b[33mRetorno percentual: \u001b[39m\u001b[38;5;132;01m{\u001b[39;00m\u001b[43mretorno_pct\u001b[49m\u001b[43m*\u001b[49m\u001b[32;43m100\u001b[39;49m\u001b[38;5;132;01m:\u001b[39;00m\u001b[33m.2f\u001b[39m\u001b[38;5;132;01m}\u001b[39;00m\u001b[33m%\u001b[39m\u001b[33m\"\u001b[39m)\n\u001b[32m     15\u001b[39m \u001b[38;5;28mprint\u001b[39m(\u001b[33mf\u001b[39m\u001b[33m\"\u001b[39m\u001b[33mRetorno ajustado ao risco: \u001b[39m\u001b[38;5;132;01m{\u001b[39;00mretorno_risco\u001b[38;5;132;01m:\u001b[39;00m\u001b[33m.4f\u001b[39m\u001b[38;5;132;01m}\u001b[39;00m\u001b[33m\"\u001b[39m)\n\u001b[32m     16\u001b[39m \u001b[38;5;28mprint\u001b[39m(\u001b[33mf\u001b[39m\u001b[33m\"\u001b[39m\u001b[33mÍndice de Sharpe: \u001b[39m\u001b[38;5;132;01m{\u001b[39;00msharpe\u001b[38;5;132;01m:\u001b[39;00m\u001b[33m.4f\u001b[39m\u001b[38;5;132;01m}\u001b[39;00m\u001b[33m\"\u001b[39m)\n",
      "\u001b[31mTypeError\u001b[39m: unsupported operand type(s) for *: 'NoneType' and 'int'"
     ]
    }
   ],
   "source": [
    "import arbitragem as utils\n",
    "\n",
    "\n",
    "retorno_pct, retorno_risco, sharpe = utils.simular_estrategia(\n",
    "    moeda1='BTC',\n",
    "    moeda2='ETH',\n",
    "    zscore_compra_e_venda=2.0,\n",
    "    zscore_encerrar_posicao=0.5,\n",
    "    stop_loss=3.0,\n",
    "    cooldown_stop_loss=20,\n",
    "    janela=60\n",
    ")\n",
    "\n",
    "print(f\"Retorno percentual: {retorno_pct*100:.2f}%\")\n",
    "print(f\"Retorno ajustado ao risco: {retorno_risco:.4f}\")\n",
    "print(f\"Índice de Sharpe: {sharpe:.4f}\")\n"
   ]
  },
  {
   "cell_type": "markdown",
   "id": "59ff7b07",
   "metadata": {},
   "source": [
    "## Teste Manual"
   ]
  },
  {
   "cell_type": "code",
   "execution_count": null,
   "id": "220d42e8",
   "metadata": {},
   "outputs": [],
   "source": [
    "\n",
    "# Algoritmo de otimizacao\n",
    "zscv = 1\n",
    "zse = 0.5\n",
    "\n",
    "stop_loss = 0\n",
    "\n",
    "cooldown = 0\n",
    "janela = 60\n",
    "\n",
    "dfcodigo = carregar_dados(\"ETH\", \"WBTC\")\n",
    "\n",
    "# Intervalo para teste de cointegração\n",
    "data_inicial = '2025-06-20'\n",
    "data_final   = '2025-07-19'\n",
    "df_filtrado = dfcodigo.loc[data_inicial:data_final]\n",
    "\n",
    "\n",
    "df_sinalizado = gerar_sinais(df_filtrado, zscv, zse, stop_loss, cooldown, janela) #gera os sinais de compra_venda_encerramento\n",
    "\n",
    "capital_final, retorno_percentual, capital_series, df_com_retorno_financeiro = simular_retorno_por_trade(df_sinalizado) #simula os retornos\n",
    "\n",
    "#Valores pra gráfico\n",
    "df_com_retorno_financeiro['ativo1_valor_esperado'] = df_com_retorno_financeiro['Ativo2'] + df_com_retorno_financeiro['rolling_mean']\n",
    "df_com_retorno_financeiro['ativo1_desvio_preco'] = df_com_retorno_financeiro['ativo1_valor_esperado'] - df_com_retorno_financeiro['Ativo1']\n",
    "df_com_retorno_financeiro['ativo1_std_preco'] = df_com_retorno_financeiro['ativo1_desvio_preco'] / df_com_retorno_financeiro['rolling_std']\n",
    "\n",
    "df_com_retorno_financeiro['ativo2_valor_esperado'] = df_com_retorno_financeiro['Ativo1'] - df_com_retorno_financeiro['rolling_mean']\n",
    "df_com_retorno_financeiro['ativo2_desvio_preco'] = df_com_retorno_financeiro['ativo2_valor_esperado'] - df_com_retorno_financeiro['Ativo2']\n",
    "df_com_retorno_financeiro['ativo2_std_preco'] = df_com_retorno_financeiro['ativo2_desvio_preco'] / df_com_retorno_financeiro['rolling_std']\n",
    "\n",
    "\n",
    "df_com_retorno_financeiro.to_excel('retornos.xlsx', index=False)\n",
    "\n",
    "print(f\"\\nRetorno acumulado: {retorno_percentual * 100:.2f}%\")\n",
    "print(f\"Capital final: ${capital_final:.2f}\")\n"
   ]
  }
 ],
 "metadata": {
  "kernelspec": {
   "display_name": "Python 3",
   "language": "python",
   "name": "python3"
  },
  "language_info": {
   "codemirror_mode": {
    "name": "ipython",
    "version": 3
   },
   "file_extension": ".py",
   "mimetype": "text/x-python",
   "name": "python",
   "nbconvert_exporter": "python",
   "pygments_lexer": "ipython3",
   "version": "3.11.9"
  }
 },
 "nbformat": 4,
 "nbformat_minor": 5
}
