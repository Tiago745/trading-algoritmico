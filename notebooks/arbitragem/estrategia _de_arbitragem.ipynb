{
 "cells": [
  {
   "cell_type": "markdown",
   "id": "706a8163",
   "metadata": {},
   "source": [
    "# Código aqui"
   ]
  },
  {
   "cell_type": "code",
   "execution_count": null,
   "id": "4389e253",
   "metadata": {
    "vscode": {
     "languageId": "plaintext"
    }
   },
   "outputs": [],
   "source": []
  }
 ],
 "metadata": {
  "language_info": {
   "name": "python"
  }
 },
 "nbformat": 4,
 "nbformat_minor": 5
}
