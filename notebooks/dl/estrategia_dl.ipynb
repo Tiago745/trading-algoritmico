{
 "cells": [
  {
   "cell_type": "markdown",
   "id": "0c7d7ed8",
   "metadata": {},
   "source": [
    "# Estratégia utilizando Deep Learning para classificar a direção do ativo no próximo período"
   ]
  },
  {
   "cell_type": "markdown",
   "id": "3666d914",
   "metadata": {},
   "source": [
    "## 0. Importações necessárias"
   ]
  },
  {
   "cell_type": "code",
   "execution_count": 15,
   "id": "4c8dc23b",
   "metadata": {},
   "outputs": [],
   "source": [
    "# Bibliotecas padrões\n",
    "import pandas as pd\n",
    "import time\n",
    "import numpy as np\n",
    "import matplotlib.pyplot as plt\n",
    "import os\n",
    "\n",
    "# Bibliotecas de aprendizado de máquina\n",
    "from sklearn.model_selection import train_test_split\n",
    "from sklearn.preprocessing import MinMaxScaler\n",
    "from sklearn.metrics import mean_squared_error, mean_absolute_error\n",
    "from tensorflow.keras.models import Sequential\n",
    "from tensorflow.keras.layers import LSTM, Dense, Dropout\n",
    "from tensorflow.keras.optimizers import Adam\n",
    "from tensorflow.keras.callbacks import EarlyStopping, ReduceLROnPlateau\n",
    "import joblib"
   ]
  },
  {
   "cell_type": "markdown",
   "id": "e0058a48",
   "metadata": {},
   "source": [
    "## 1. Leitura dos dados"
   ]
  },
  {
   "cell_type": "code",
   "execution_count": null,
   "id": "e2299eda",
   "metadata": {},
   "outputs": [
    {
     "name": "stdout",
     "output_type": "stream",
     "text": [
      "Carregando dados de ..\\..\\data\\fechamentos\\ADAUSDT_1h_data.csv\n",
      "Dados carregados com sucesso! Shape: (17520, 5)\n",
      "Primeiras 5 linhas:\n",
      "                       open    high     low   close     volume\n",
      "timestamp                                                     \n",
      "2023-07-20 16:00:00  0.3176  0.3194  0.3155  0.3164  6504823.7\n",
      "2023-07-20 17:00:00  0.3164  0.3174  0.3157  0.3162  2826333.3\n",
      "2023-07-20 18:00:00  0.3162  0.3164  0.3130  0.3154  6409180.5\n",
      "2023-07-20 19:00:00  0.3153  0.3177  0.3153  0.3167  4054561.0\n",
      "2023-07-20 20:00:00  0.3168  0.3170  0.3138  0.3158  2845130.6\n"
     ]
    }
   ],
   "source": [
    "# Caminho relativo correto a partir do notebook\n",
    "data_path = r'..\\..\\data\\fechamentos' # Caminho para os dados\n",
    "data_archive = 'ADAUSDT_1h_data.csv' # Nome do arquivo de dados\n",
    "\n",
    "# Junta o caminho e o nome do arquivo\n",
    "full_path = os.path.join(data_path, data_archive)\n",
    "\n",
    "# Verifica se o caminho existe\n",
    "if os.path.exists(full_path):\n",
    "    print(f\"Carregando dados de {full_path}\")\n",
    "    # Carrega os dados\n",
    "    df = pd.read_csv(full_path, parse_dates=['timestamp'], index_col='timestamp')\n",
    "    print(f\"Dados carregados com sucesso! Shape: {df.shape}\")\n",
    "    print(f\"Primeiras 5 linhas:\")\n",
    "    print(df.head())\n",
    "else:\n",
    "    print(\"Arquivo não encontrado! Listando arquivos disponíveis:\")\n",
    "    # Lista todos arquivos no diretório data/fechamentos caso o arquivo não exista\n",
    "    if os.path.exists(data_path):\n",
    "        files = os.listdir(data_path)\n",
    "        for file in files:\n",
    "            print(f\"- {file}\")"
   ]
  },
  {
   "cell_type": "markdown",
   "id": "b5cd92d2",
   "metadata": {},
   "source": [
    "## 2. Cálculo dos indicadores"
   ]
  },
  {
   "cell_type": "code",
   "execution_count": null,
   "id": "32661e9a",
   "metadata": {},
   "outputs": [],
   "source": []
  },
  {
   "cell_type": "markdown",
   "id": "6cb31ee4",
   "metadata": {},
   "source": [
    "## 3. Construir o modelo"
   ]
  }
 ],
 "metadata": {
  "kernelspec": {
   "display_name": "Python 3",
   "language": "python",
   "name": "python3"
  },
  "language_info": {
   "codemirror_mode": {
    "name": "ipython",
    "version": 3
   },
   "file_extension": ".py",
   "mimetype": "text/x-python",
   "name": "python",
   "nbconvert_exporter": "python",
   "pygments_lexer": "ipython3",
   "version": "3.12.10"
  }
 },
 "nbformat": 4,
 "nbformat_minor": 5
}
