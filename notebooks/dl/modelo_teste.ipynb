{
 "cells": [
  {
   "cell_type": "markdown",
   "id": "8a546866",
   "metadata": {},
   "source": [
    "# Modelo MLP para Previsão de Preços de Criptomoedas"
   ]
  },
  {
   "cell_type": "markdown",
   "id": "49e45948",
   "metadata": {},
   "source": [
    "## Importação das Bibliotecas"
   ]
  },
  {
   "cell_type": "code",
   "execution_count": 28,
   "id": "03575e8a",
   "metadata": {},
   "outputs": [],
   "source": [
    "import numpy as np\n",
    "import pandas as pd\n",
    "import matplotlib.pyplot as plt\n",
    "import seaborn as sns\n",
    "from sklearn.preprocessing import StandardScaler, RobustScaler, QuantileTransformer\n",
    "from sklearn.metrics import confusion_matrix, classification_report, accuracy_score\n",
    "from sklearn.utils.class_weight import compute_class_weight\n",
    "from sklearn.model_selection import TimeSeriesSplit\n",
    "from tensorflow.keras.callbacks import EarlyStopping, ReduceLROnPlateau\n",
    "from tensorflow.keras.models import Sequential\n",
    "from tensorflow.keras.layers import Dense, Dropout, Input, PReLU\n",
    "from tensorflow.keras.optimizers import Adam, Adamax, AdamW, Lion,RMSprop\n",
    "import joblib"
   ]
  },
  {
   "cell_type": "markdown",
   "id": "bfbfd25f",
   "metadata": {},
   "source": [
    "## PASSO 1: Carregar e Preparar os Dados\n",
    "\n",
    "**Objetivo:** Ler o arquivo CSV e garantir que ele esteja em ordem."
   ]
  },
  {
   "cell_type": "code",
   "execution_count": 29,
   "id": "b1870108",
   "metadata": {},
   "outputs": [
    {
     "name": "stdout",
     "output_type": "stream",
     "text": [
      "Dados carregados: 17520 registros.\n",
      "            timestamp   open   high    low     close     volume\n",
      "0 2023-07-20 16:00:00  25.69  25.77  25.21  3.277522  12.935543\n",
      "1 2023-07-20 17:00:00  25.52  25.67  25.40  3.279783  11.919740\n",
      "2 2023-07-20 18:00:00  25.58  25.58  25.25  3.273364  12.173379\n",
      "3 2023-07-20 19:00:00  25.40  25.52  25.27  3.272985  11.862243\n",
      "4 2023-07-20 20:00:00  25.40  25.40  25.03  3.266904  12.382280\n"
     ]
    }
   ],
   "source": [
    "# Carrega os dados do arquivo CSV\n",
    "df = pd.read_csv(r\"C:\\Users\\abgad\\Downloads\\SOLUSDT_1h_data.csv\")\n",
    "\n",
    "# Garante que a coluna 'timestamp' seja do tipo data e ordena os dados\n",
    "df['timestamp'] = pd.to_datetime(df['timestamp'])\n",
    "df = df.sort_values('timestamp')\n",
    "df = df.reset_index(drop=True)\n",
    "\n",
    "# Aplicar transformação logarítmica nas colunas 'close' e 'volume' para lidar com outliers\n",
    "# Usamos np.log1p que calcula log(1+x) para lidar com valores que podem ser zero ou próximos de zero\n",
    "cols_to_log = ['close', 'volume']\n",
    "for col in cols_to_log:\n",
    "    df[col] = np.log1p(df[col])\n",
    "\n",
    "# Remove colunas com nomes \"Unnamed\".\n",
    "df = df.loc[:, ~df.columns.str.contains('^Unnamed')]\n",
    "\n",
    "print(f\"Dados carregados: {df.shape[0]} registros.\")\n",
    "print(df.head())"
   ]
  },
  {
   "cell_type": "markdown",
   "id": "86a6fb8d",
   "metadata": {},
   "source": [
    "## PASSO 2: Preparar os Dados para o Modelo\n",
    "\n",
    "**Objetivo:** Transformar os dados brutos em um formato que a rede neural entenda (features e target)."
   ]
  },
  {
   "cell_type": "code",
   "execution_count": 30,
   "id": "d5584385",
   "metadata": {},
   "outputs": [
    {
     "name": "stderr",
     "output_type": "stream",
     "text": [
      "C:\\Users\\abgad\\AppData\\Local\\Temp\\ipykernel_2520\\2228360603.py:71: FutureWarning: Setting an item of incompatible dtype is deprecated and will raise an error in a future version of pandas. Value '11.919739862378032' has dtype incompatible with int64, please explicitly cast to a compatible dtype first.\n",
      "  obv.iloc[i] = obv.iloc[i-1] + df['volume'].iloc[i]\n"
     ]
    }
   ],
   "source": [
    "# --- Calculo dos Indicadores ---\n",
    "# Calcula as variações percentuais de 'close' e 'volume'\n",
    "df['close_pct'] = df['close'].pct_change()\n",
    "df['volume_pct'] = df['volume'].pct_change()\n",
    "\n",
    "# Calcula a média móvel simples de 10 e 30 períodos para 'close'\n",
    "df['sma_10'] = df['close'].rolling(window=10).mean()\n",
    "df['sma_30'] = df['close'].rolling(window=30).mean()\n",
    "\n",
    "# Calcula o Índice de Força Relativa (RSI) de 14 períodos\n",
    "def rsi(series, period=14):\n",
    "    gain = (series.where(series > 0, 0)).rolling(window=period).mean()\n",
    "    loss = (-series.where(series < 0, 0)).rolling(window=period).mean()\n",
    "    rs = gain / loss\n",
    "    return 100 - (100 / (1 + rs))\n",
    "df['rsi_7'] = rsi(df['close'], period=7)\n",
    "df['rsi_14'] = rsi(df['close'], period=14)\n",
    "df['rsi_21'] = rsi(df['close'], period=21)\n",
    "\n",
    "# Calcula o MACD\n",
    "def macd(series, short_window=12, long_window=26, signal_window=9):\n",
    "    exp1 = series.ewm(span=short_window, adjust=False).mean()\n",
    "    exp2 = series.ewm(span=long_window, adjust=False).mean()\n",
    "    macd_line = exp1 - exp2\n",
    "    signal_line = macd_line.ewm(span=signal_window, adjust=False).mean()\n",
    "    return macd_line, signal_line\n",
    "df['macd'], df['macd_signal'] = macd(df['close'])\n",
    "\n",
    "# Calcula o Bollinger Bands\n",
    "def bollinger_bands(series, window=20, num_std_dev=2):\n",
    "    rolling_mean = series.rolling(window=window).mean()\n",
    "    rolling_std = series.rolling(window=window).std()\n",
    "    upper_band = rolling_mean + (rolling_std * num_std_dev)\n",
    "    lower_band = rolling_mean - (rolling_std * num_std_dev)\n",
    "    return upper_band, lower_band\n",
    "df['bb_upper'], df['bb_lower'] = bollinger_bands(df['close'])\n",
    "\n",
    "# Calcula o Average True Range (ATR)\n",
    "def atr(df, window=14):\n",
    "    high_low = df['high'] - df['low']\n",
    "    high_prev_close = abs(df['high'] - df['close'].shift())\n",
    "    low_prev_close = abs(df['low'] - df['close'].shift())\n",
    "    tr = pd.DataFrame({'hl': high_low, 'hpc': high_prev_close, 'lpc': low_prev_close}).max(axis=1)\n",
    "    atr_val = tr.rolling(window=window).mean()\n",
    "    return atr_val\n",
    "df['atr_14'] = atr(df, window=14) # Adicionando ATR de 14 períodos\n",
    "\n",
    "# Calcula o Stochastic Oscillator (%K e %D)\n",
    "def stochastic_oscillator(df, k_window=14, d_window=3):\n",
    "    lowest_low = df['low'].rolling(window=k_window).min()\n",
    "    highest_high = df['high'].rolling(window=k_window).max()\n",
    "    k_percent = ((df['close'] - lowest_low) / (highest_high - lowest_low)) * 100\n",
    "    d_percent = k_percent.rolling(window=d_window).mean()\n",
    "    return k_percent, d_percent\n",
    "df['so_k'] = stochastic_oscillator(df)[0] # %K do Stochastic\n",
    "df['so_d'] = stochastic_oscillator(df)[1] # %D (média de %K) do Stochastic\n",
    "\n",
    "# Calcula o Williams %R\n",
    "def williams_percent_r(df, window=14):\n",
    "    lowest_low = df['low'].rolling(window=window).min()\n",
    "    highest_high = df['high'].rolling(window=window).max()\n",
    "    wpr = ((highest_high - df['close']) / (highest_high - lowest_low)) * -100\n",
    "    return wpr\n",
    "df['wpr_14'] = williams_percent_r(df, window=14) # Williams %R de 14 períodos\n",
    "\n",
    "# Calcula o On-Balance Volume (OBV)\n",
    "def on_balance_volume(df):\n",
    "    obv = pd.Series(0, index=df.index)\n",
    "    for i in range(1, len(df)):\n",
    "        if df['close'].iloc[i] > df['close'].iloc[i-1]:\n",
    "            obv.iloc[i] = obv.iloc[i-1] + df['volume'].iloc[i]\n",
    "        elif df['close'].iloc[i] < df['close'].iloc[i-1]:\n",
    "            obv.iloc[i] = obv.iloc[i-1] - df['volume'].iloc[i]\n",
    "        else:\n",
    "            obv.iloc[i] = obv.iloc[i-1]\n",
    "    return obv\n",
    "df['obv'] = on_balance_volume(df)\n",
    "\n",
    "# Calcula o desvio padrão de 10, 20 e 40 períodos\n",
    "df['std_10'] = df['close'].rolling(window=10).std()\n",
    "df['std_20'] = df['close'].rolling(window=20).std()\n",
    "df['std_40'] = df['close'].rolling(window=40).std()\n",
    "\n",
    "# Calcula a média móvel exponencial de 10 e 30 períodos\n",
    "df['ema_10'] = df['close'].ewm(span=10, adjust=False).mean()\n",
    "df['ema_30'] = df['close'].ewm(span=30, adjust=False).mean()\n",
    "\n",
    "# Calcula indicadores lagging\n",
    "df['lag_close_pct_1'] = df['close_pct'].shift(1)  # Preço de fechamento do período anterior\n",
    "df['lag_close_pct_2'] = df['close_pct'].shift(2)  # Preço de fechamento de dois períodos atrás\n",
    "\n",
    "df['lag_rsi_7_1'] = df['rsi_7'].shift(1)  # RSI do período anterior\n",
    "df['lag_rsi_7_2'] = df['rsi_7'].shift(2)  # RSI de dois períodos atrás\n",
    "\n",
    "df['lag_rsi_14_1'] = df['rsi_14'].shift(1)  # RSI de 14 períodos do período anterior\n",
    "df['lag_rsi_14_2'] = df['rsi_14'].shift(2)  # RSI de 14 períodos de dois períodos atrás\n",
    "\n",
    "df['lag_rsi_21_1'] = df['rsi_21'].shift(1)  # RSI de 21 períodos do período anterior\n",
    "df['lag_rsi_21_2'] = df['rsi_21'].shift(2)  # RSI de 21 períodos de dois períodos atrás\n",
    "\n",
    "df['lag_macd_1'] = df['macd'].shift(1)  # MACD do período anterior\n",
    "df['lag_macd_2'] = df['macd'].shift(2)  # MACD de dois períodos atrás\n",
    "\n",
    "df['lag_macd_signal_1'] = df['macd_signal'].shift(1)  # Sinal do MACD do período anterior\n",
    "df['lag_macd_signal_2'] = df['macd_signal'].shift(2)  # Sinal do MACD de dois períodos atrás\n",
    "\n",
    "# Distância do preço atual para a média móvel (mostra se está sobrecomprado/sobrevendido)\n",
    "df['price_vs_sma30'] = df['close'] - df['sma_30']\n",
    "\n",
    "# Cruzamento de médias móveis (um forte indicador de tendência)\n",
    "df['sma_10_vs_sma_30'] = df['sma_10'] - df['sma_30']\n",
    "\n",
    "# Diferença do MACD para a sua linha de sinal\n",
    "df['macd_diff'] = df['macd'] - df['macd_signal']\n",
    "\n",
    "# Volatilidade (desvio padrão dos retornos logarítmicos)\n",
    "df['volatility_10'] = df['close'].pct_change().rolling(window=10).std()\n",
    "df['volatility_20'] = df['close'].pct_change().rolling(window=20).std()\n",
    "df['volatility_40'] = df['close'].pct_change().rolling(window=40).std()\n",
    "\n",
    "# Features de tempo para capturar sazonalidade\n",
    "df['hour'] = df['timestamp'].dt.hour\n",
    "df['day_of_week'] = df['timestamp'].dt.dayofweek\n",
    "df['month'] = df['timestamp'].dt.month\n",
    "\n",
    "# Feature de tendência de volume\n",
    "df['volume_trend'] = df['volume'].pct_change().rolling(window=10).mean()\n",
    "\n",
    "# Feature de tendência de preço\n",
    "df['price_trend'] = df['close'].pct_change().rolling(window=10).mean()\n",
    "\n",
    "# Apaga as linhas com valores NaN\n",
    "df = df.dropna()\n",
    "df = df.reset_index(drop=True)\n"
   ]
  },
  {
   "cell_type": "code",
   "execution_count": 31,
   "id": "d86a29b8",
   "metadata": {},
   "outputs": [
    {
     "name": "stdout",
     "output_type": "stream",
     "text": [
      "Features definidas: ['close_pct', 'volume_pct', 'sma_10', 'sma_30', 'rsi_7', 'rsi_14', 'rsi_21', 'macd', 'macd_signal', 'bb_upper', 'bb_lower', 'std_10', 'std_20', 'std_40', 'ema_10', 'ema_30', 'lag_close_pct_1', 'lag_close_pct_2', 'lag_rsi_7_1', 'lag_rsi_7_2', 'lag_rsi_14_1', 'lag_rsi_14_2', 'lag_rsi_21_1', 'lag_rsi_21_2', 'lag_macd_1', 'lag_macd_2', 'lag_macd_signal_1', 'lag_macd_signal_2', 'price_vs_sma30', 'sma_10_vs_sma_30', 'macd_diff', 'volatility_10', 'volatility_20', 'volatility_40', 'hour', 'day_of_week', 'month', 'volume_trend', 'price_trend', 'atr_14', 'so_k', 'so_d', 'wpr_14', 'obv']\n",
      "Sequence length: 64\n",
      "Shape dos dados brutos: (17480, 44)\n"
     ]
    }
   ],
   "source": [
    "# --- Definição das Variáveis ---\n",
    "FEATURE_COLUMNS = ['close_pct', 'volume_pct', 'sma_10', 'sma_30', 'rsi_7', 'rsi_14', 'rsi_21','macd', 'macd_signal', \n",
    "                   'bb_upper', 'bb_lower', 'std_10', 'std_20', 'std_40', 'ema_10', 'ema_30',\n",
    "                   'lag_close_pct_1', 'lag_close_pct_2', 'lag_rsi_7_1', 'lag_rsi_7_2', 'lag_rsi_14_1', 'lag_rsi_14_2', 'lag_rsi_21_1', 'lag_rsi_21_2',\n",
    "                   'lag_macd_1', 'lag_macd_2', 'lag_macd_signal_1', 'lag_macd_signal_2',\n",
    "                   'price_vs_sma30', 'sma_10_vs_sma_30', 'macd_diff', 'volatility_10', 'volatility_20','volatility_40',\n",
    "                   'hour', 'day_of_week', 'month', 'volume_trend', 'price_trend', 'atr_14','so_k', 'so_d', 'wpr_14', 'obv']\n",
    "TARGET_COLUMN = 'close'\n",
    "\n",
    "# SEQUENCE_LENGTH: Quantos períodos olharemos para trás para prever o próximo\n",
    "SEQUENCE_LENGTH = 64\n",
    "\n",
    "# --- Criação das Features (X) e do Alvo (y) ---\n",
    "# O alvo (y) será binário: 1 se o preço subir, 0 se não\n",
    "# df[TARGET_COLUMN].shift(-1) pega o preço de fechamento do *próximo* período\n",
    "y = (df[TARGET_COLUMN].shift(-1) > df[TARGET_COLUMN]).astype(int)\n",
    "\n",
    "# As features (X) serão os dados da FEATURE_COLUMNS\n",
    "X_raw = df[FEATURE_COLUMNS]\n",
    "\n",
    "print(f\"Features definidas: {FEATURE_COLUMNS}\")\n",
    "print(f\"Sequence length: {SEQUENCE_LENGTH}\")\n",
    "print(f\"Shape dos dados brutos: {X_raw.shape}\")"
   ]
  },
  {
   "cell_type": "code",
   "execution_count": 32,
   "id": "15aa9e7c",
   "metadata": {},
   "outputs": [
    {
     "name": "stdout",
     "output_type": "stream",
     "text": [
      "Dados normalizados. Shape: (17480, 44)\n",
      "Min: -5.199337582605575, Max: 5.19933758270342\n"
     ]
    }
   ],
   "source": [
    "# --- Normalização dos Dados ---\n",
    "# Importante para redes neurais, pois ajuda na convergência do modelo\n",
    "scaler = QuantileTransformer(output_distribution='normal', n_quantiles=100)\n",
    "X_scaled = scaler.fit_transform(X_raw)\n",
    "\n",
    "print(f\"Dados normalizados. Shape: {X_scaled.shape}\")\n",
    "print(f\"Min: {X_scaled.min()}, Max: {X_scaled.max()}\")"
   ]
  },
  {
   "cell_type": "code",
   "execution_count": 33,
   "id": "bca6c935",
   "metadata": {},
   "outputs": [
    {
     "name": "stdout",
     "output_type": "stream",
     "text": [
      "Sequências criadas. X shape: (17416, 64, 44), y shape: (17416,)\n"
     ]
    }
   ],
   "source": [
    "# --- Criação das Sequências ---\n",
    "# Cria sequências de dados para o modelo\n",
    "X_sequences, y_sequences = [], []\n",
    "for i in range(len(X_scaled) - SEQUENCE_LENGTH):\n",
    "    X_sequences.append(X_scaled[i : i + SEQUENCE_LENGTH])\n",
    "    y_sequences.append(y[i + SEQUENCE_LENGTH -1]) # O alvo corresponde ao final da sequência\n",
    "\n",
    "X = np.array(X_sequences)\n",
    "y = np.array(y_sequences)\n",
    "\n",
    "print(f\"Sequências criadas. X shape: {X.shape}, y shape: {y.shape}\")"
   ]
  },
  {
   "cell_type": "code",
   "execution_count": 34,
   "id": "8a343bc1",
   "metadata": {},
   "outputs": [
    {
     "name": "stdout",
     "output_type": "stream",
     "text": [
      "Shape de X (features): (17416, 2816)\n",
      "Shape de y (alvo): (17416,)\n"
     ]
    }
   ],
   "source": [
    "# --- Reshape do X para o MLP ---\n",
    "# O MLP espera uma entrada 2D, então precisa achatar as sequências\n",
    "num_samples = X.shape[0]\n",
    "num_features_flat = X.shape[1] * X.shape[2]\n",
    "X = X.reshape(num_samples, num_features_flat)\n",
    "\n",
    "print(f\"Shape de X (features): {X.shape}\")\n",
    "print(f\"Shape de y (alvo): {y.shape}\")"
   ]
  },
  {
   "cell_type": "code",
   "execution_count": 35,
   "id": "802dca7d",
   "metadata": {},
   "outputs": [
    {
     "name": "stdout",
     "output_type": "stream",
     "text": [
      "Amostras de treino: 14514\n",
      "Amostras de teste: 2902\n",
      "Distribuição do target no treino: [7243 7271]\n",
      "Distribuição do target no teste: [1425 1477]\n"
     ]
    }
   ],
   "source": [
    "# --- Divisão em Treino e Teste ---\n",
    "# Divisão dos dados em treino e teste\n",
    "tscv = TimeSeriesSplit(n_splits=5)\n",
    "for train_index, test_index in tscv.split(X):\n",
    "    X_train, X_test = X[train_index], X[test_index]\n",
    "    y_train, y_test = y[train_index], y[test_index]\n",
    "    \n",
    "# Tentativa de balancear as classes, evitando a mesma reposta sempre\n",
    "class_weights = compute_class_weight(\n",
    "    class_weight='balanced',\n",
    "    classes=np.unique(y_train),\n",
    "    y=y_train\n",
    ")\n",
    "\n",
    "class_weight_dict = dict(enumerate(class_weights))\n",
    "\n",
    "print(f\"Amostras de treino: {len(X_train)}\")\n",
    "print(f\"Amostras de teste: {len(X_test)}\")\n",
    "print(f\"Distribuição do target no treino: {np.bincount(y_train)}\")\n",
    "print(f\"Distribuição do target no teste: {np.bincount(y_test)}\")"
   ]
  },
  {
   "cell_type": "markdown",
   "id": "bcce5f9e",
   "metadata": {},
   "source": [
    "## PASSO 3: Construir o Modelo (MLP)\n",
    "\n",
    "**Objetivo:** Definir a arquitetura da nossa rede neural."
   ]
  },
  {
   "cell_type": "code",
   "execution_count": 36,
   "id": "48b78139",
   "metadata": {},
   "outputs": [],
   "source": [
    "model = Sequential()\n",
    "\n",
    "# Camada de Entrada: Define o formato da nossa entrada\n",
    "model.add(Input(shape=(num_features_flat,)))\n",
    "\n",
    "# 1ª Camada Oculta: Primeira camada que aprende os padrões\n",
    "model.add(Dense(units=512))\n",
    "\n",
    "# PReLU é uma ativação que pode aprender a inclinação\n",
    "model.add(PReLU())  \n",
    "\n",
    "# Camada de Dropout: Ajuda a prevenir overfitting\n",
    "model.add(Dropout(rate=0.1))\n",
    "\n",
    "# 2ª Camada Oculta: Segunda camada para aprender padrões mais complexos\n",
    "model.add(Dense(units=256))\n",
    "\n",
    "# PReLU é uma ativação que pode aprender a inclinação\n",
    "model.add(PReLU())\n",
    "\n",
    "# Camada de Dropout: Ajuda a prevenir overfitting\n",
    "model.add(Dropout(rate=0.1))\n",
    "\n",
    "# 3ª Camada Oculta: Terceira camada para aprender padrões mais complexos\n",
    "model.add(Dense(units=128))\n",
    "\n",
    "# PReLU é uma ativação que pode aprender a inclinação\n",
    "model.add(PReLU())\n",
    "\n",
    "# Camada de Dropout: Ajuda a prevenir overfitting\n",
    "model.add(Dropout(rate=0.1))\n",
    "\n",
    "# Camada de Saída: Gera a previsão final\n",
    "model.add(Dense(units=1, activation='sigmoid'))"
   ]
  },
  {
   "cell_type": "code",
   "execution_count": 37,
   "id": "c92ecf38",
   "metadata": {},
   "outputs": [
    {
     "data": {
      "text/html": [
       "<pre style=\"white-space:pre;overflow-x:auto;line-height:normal;font-family:Menlo,'DejaVu Sans Mono',consolas,'Courier New',monospace\"><span style=\"font-weight: bold\">Model: \"sequential_1\"</span>\n",
       "</pre>\n"
      ],
      "text/plain": [
       "\u001b[1mModel: \"sequential_1\"\u001b[0m\n"
      ]
     },
     "metadata": {},
     "output_type": "display_data"
    },
    {
     "data": {
      "text/html": [
       "<pre style=\"white-space:pre;overflow-x:auto;line-height:normal;font-family:Menlo,'DejaVu Sans Mono',consolas,'Courier New',monospace\">┏━━━━━━━━━━━━━━━━━━━━━━━━━━━━━━━━━┳━━━━━━━━━━━━━━━━━━━━━━━━┳━━━━━━━━━━━━━━━┓\n",
       "┃<span style=\"font-weight: bold\"> Layer (type)                    </span>┃<span style=\"font-weight: bold\"> Output Shape           </span>┃<span style=\"font-weight: bold\">       Param # </span>┃\n",
       "┡━━━━━━━━━━━━━━━━━━━━━━━━━━━━━━━━━╇━━━━━━━━━━━━━━━━━━━━━━━━╇━━━━━━━━━━━━━━━┩\n",
       "│ dense_4 (<span style=\"color: #0087ff; text-decoration-color: #0087ff\">Dense</span>)                 │ (<span style=\"color: #00d7ff; text-decoration-color: #00d7ff\">None</span>, <span style=\"color: #00af00; text-decoration-color: #00af00\">512</span>)            │     <span style=\"color: #00af00; text-decoration-color: #00af00\">1,442,304</span> │\n",
       "├─────────────────────────────────┼────────────────────────┼───────────────┤\n",
       "│ p_re_lu_3 (<span style=\"color: #0087ff; text-decoration-color: #0087ff\">PReLU</span>)               │ (<span style=\"color: #00d7ff; text-decoration-color: #00d7ff\">None</span>, <span style=\"color: #00af00; text-decoration-color: #00af00\">512</span>)            │           <span style=\"color: #00af00; text-decoration-color: #00af00\">512</span> │\n",
       "├─────────────────────────────────┼────────────────────────┼───────────────┤\n",
       "│ dropout_3 (<span style=\"color: #0087ff; text-decoration-color: #0087ff\">Dropout</span>)             │ (<span style=\"color: #00d7ff; text-decoration-color: #00d7ff\">None</span>, <span style=\"color: #00af00; text-decoration-color: #00af00\">512</span>)            │             <span style=\"color: #00af00; text-decoration-color: #00af00\">0</span> │\n",
       "├─────────────────────────────────┼────────────────────────┼───────────────┤\n",
       "│ dense_5 (<span style=\"color: #0087ff; text-decoration-color: #0087ff\">Dense</span>)                 │ (<span style=\"color: #00d7ff; text-decoration-color: #00d7ff\">None</span>, <span style=\"color: #00af00; text-decoration-color: #00af00\">256</span>)            │       <span style=\"color: #00af00; text-decoration-color: #00af00\">131,328</span> │\n",
       "├─────────────────────────────────┼────────────────────────┼───────────────┤\n",
       "│ p_re_lu_4 (<span style=\"color: #0087ff; text-decoration-color: #0087ff\">PReLU</span>)               │ (<span style=\"color: #00d7ff; text-decoration-color: #00d7ff\">None</span>, <span style=\"color: #00af00; text-decoration-color: #00af00\">256</span>)            │           <span style=\"color: #00af00; text-decoration-color: #00af00\">256</span> │\n",
       "├─────────────────────────────────┼────────────────────────┼───────────────┤\n",
       "│ dropout_4 (<span style=\"color: #0087ff; text-decoration-color: #0087ff\">Dropout</span>)             │ (<span style=\"color: #00d7ff; text-decoration-color: #00d7ff\">None</span>, <span style=\"color: #00af00; text-decoration-color: #00af00\">256</span>)            │             <span style=\"color: #00af00; text-decoration-color: #00af00\">0</span> │\n",
       "├─────────────────────────────────┼────────────────────────┼───────────────┤\n",
       "│ dense_6 (<span style=\"color: #0087ff; text-decoration-color: #0087ff\">Dense</span>)                 │ (<span style=\"color: #00d7ff; text-decoration-color: #00d7ff\">None</span>, <span style=\"color: #00af00; text-decoration-color: #00af00\">128</span>)            │        <span style=\"color: #00af00; text-decoration-color: #00af00\">32,896</span> │\n",
       "├─────────────────────────────────┼────────────────────────┼───────────────┤\n",
       "│ p_re_lu_5 (<span style=\"color: #0087ff; text-decoration-color: #0087ff\">PReLU</span>)               │ (<span style=\"color: #00d7ff; text-decoration-color: #00d7ff\">None</span>, <span style=\"color: #00af00; text-decoration-color: #00af00\">128</span>)            │           <span style=\"color: #00af00; text-decoration-color: #00af00\">128</span> │\n",
       "├─────────────────────────────────┼────────────────────────┼───────────────┤\n",
       "│ dropout_5 (<span style=\"color: #0087ff; text-decoration-color: #0087ff\">Dropout</span>)             │ (<span style=\"color: #00d7ff; text-decoration-color: #00d7ff\">None</span>, <span style=\"color: #00af00; text-decoration-color: #00af00\">128</span>)            │             <span style=\"color: #00af00; text-decoration-color: #00af00\">0</span> │\n",
       "├─────────────────────────────────┼────────────────────────┼───────────────┤\n",
       "│ dense_7 (<span style=\"color: #0087ff; text-decoration-color: #0087ff\">Dense</span>)                 │ (<span style=\"color: #00d7ff; text-decoration-color: #00d7ff\">None</span>, <span style=\"color: #00af00; text-decoration-color: #00af00\">1</span>)              │           <span style=\"color: #00af00; text-decoration-color: #00af00\">129</span> │\n",
       "└─────────────────────────────────┴────────────────────────┴───────────────┘\n",
       "</pre>\n"
      ],
      "text/plain": [
       "┏━━━━━━━━━━━━━━━━━━━━━━━━━━━━━━━━━┳━━━━━━━━━━━━━━━━━━━━━━━━┳━━━━━━━━━━━━━━━┓\n",
       "┃\u001b[1m \u001b[0m\u001b[1mLayer (type)                   \u001b[0m\u001b[1m \u001b[0m┃\u001b[1m \u001b[0m\u001b[1mOutput Shape          \u001b[0m\u001b[1m \u001b[0m┃\u001b[1m \u001b[0m\u001b[1m      Param #\u001b[0m\u001b[1m \u001b[0m┃\n",
       "┡━━━━━━━━━━━━━━━━━━━━━━━━━━━━━━━━━╇━━━━━━━━━━━━━━━━━━━━━━━━╇━━━━━━━━━━━━━━━┩\n",
       "│ dense_4 (\u001b[38;5;33mDense\u001b[0m)                 │ (\u001b[38;5;45mNone\u001b[0m, \u001b[38;5;34m512\u001b[0m)            │     \u001b[38;5;34m1,442,304\u001b[0m │\n",
       "├─────────────────────────────────┼────────────────────────┼───────────────┤\n",
       "│ p_re_lu_3 (\u001b[38;5;33mPReLU\u001b[0m)               │ (\u001b[38;5;45mNone\u001b[0m, \u001b[38;5;34m512\u001b[0m)            │           \u001b[38;5;34m512\u001b[0m │\n",
       "├─────────────────────────────────┼────────────────────────┼───────────────┤\n",
       "│ dropout_3 (\u001b[38;5;33mDropout\u001b[0m)             │ (\u001b[38;5;45mNone\u001b[0m, \u001b[38;5;34m512\u001b[0m)            │             \u001b[38;5;34m0\u001b[0m │\n",
       "├─────────────────────────────────┼────────────────────────┼───────────────┤\n",
       "│ dense_5 (\u001b[38;5;33mDense\u001b[0m)                 │ (\u001b[38;5;45mNone\u001b[0m, \u001b[38;5;34m256\u001b[0m)            │       \u001b[38;5;34m131,328\u001b[0m │\n",
       "├─────────────────────────────────┼────────────────────────┼───────────────┤\n",
       "│ p_re_lu_4 (\u001b[38;5;33mPReLU\u001b[0m)               │ (\u001b[38;5;45mNone\u001b[0m, \u001b[38;5;34m256\u001b[0m)            │           \u001b[38;5;34m256\u001b[0m │\n",
       "├─────────────────────────────────┼────────────────────────┼───────────────┤\n",
       "│ dropout_4 (\u001b[38;5;33mDropout\u001b[0m)             │ (\u001b[38;5;45mNone\u001b[0m, \u001b[38;5;34m256\u001b[0m)            │             \u001b[38;5;34m0\u001b[0m │\n",
       "├─────────────────────────────────┼────────────────────────┼───────────────┤\n",
       "│ dense_6 (\u001b[38;5;33mDense\u001b[0m)                 │ (\u001b[38;5;45mNone\u001b[0m, \u001b[38;5;34m128\u001b[0m)            │        \u001b[38;5;34m32,896\u001b[0m │\n",
       "├─────────────────────────────────┼────────────────────────┼───────────────┤\n",
       "│ p_re_lu_5 (\u001b[38;5;33mPReLU\u001b[0m)               │ (\u001b[38;5;45mNone\u001b[0m, \u001b[38;5;34m128\u001b[0m)            │           \u001b[38;5;34m128\u001b[0m │\n",
       "├─────────────────────────────────┼────────────────────────┼───────────────┤\n",
       "│ dropout_5 (\u001b[38;5;33mDropout\u001b[0m)             │ (\u001b[38;5;45mNone\u001b[0m, \u001b[38;5;34m128\u001b[0m)            │             \u001b[38;5;34m0\u001b[0m │\n",
       "├─────────────────────────────────┼────────────────────────┼───────────────┤\n",
       "│ dense_7 (\u001b[38;5;33mDense\u001b[0m)                 │ (\u001b[38;5;45mNone\u001b[0m, \u001b[38;5;34m1\u001b[0m)              │           \u001b[38;5;34m129\u001b[0m │\n",
       "└─────────────────────────────────┴────────────────────────┴───────────────┘\n"
      ]
     },
     "metadata": {},
     "output_type": "display_data"
    },
    {
     "data": {
      "text/html": [
       "<pre style=\"white-space:pre;overflow-x:auto;line-height:normal;font-family:Menlo,'DejaVu Sans Mono',consolas,'Courier New',monospace\"><span style=\"font-weight: bold\"> Total params: </span><span style=\"color: #00af00; text-decoration-color: #00af00\">1,607,553</span> (6.13 MB)\n",
       "</pre>\n"
      ],
      "text/plain": [
       "\u001b[1m Total params: \u001b[0m\u001b[38;5;34m1,607,553\u001b[0m (6.13 MB)\n"
      ]
     },
     "metadata": {},
     "output_type": "display_data"
    },
    {
     "data": {
      "text/html": [
       "<pre style=\"white-space:pre;overflow-x:auto;line-height:normal;font-family:Menlo,'DejaVu Sans Mono',consolas,'Courier New',monospace\"><span style=\"font-weight: bold\"> Trainable params: </span><span style=\"color: #00af00; text-decoration-color: #00af00\">1,607,553</span> (6.13 MB)\n",
       "</pre>\n"
      ],
      "text/plain": [
       "\u001b[1m Trainable params: \u001b[0m\u001b[38;5;34m1,607,553\u001b[0m (6.13 MB)\n"
      ]
     },
     "metadata": {},
     "output_type": "display_data"
    },
    {
     "data": {
      "text/html": [
       "<pre style=\"white-space:pre;overflow-x:auto;line-height:normal;font-family:Menlo,'DejaVu Sans Mono',consolas,'Courier New',monospace\"><span style=\"font-weight: bold\"> Non-trainable params: </span><span style=\"color: #00af00; text-decoration-color: #00af00\">0</span> (0.00 B)\n",
       "</pre>\n"
      ],
      "text/plain": [
       "\u001b[1m Non-trainable params: \u001b[0m\u001b[38;5;34m0\u001b[0m (0.00 B)\n"
      ]
     },
     "metadata": {},
     "output_type": "display_data"
    }
   ],
   "source": [
    "# --- Compilação do Modelo ---\n",
    "# O modelo é compilado com o otimizador Adam e a função de perda binary_crossentropy, adequada para problemas de classificação binária\n",
    "model.compile(optimizer=RMSprop(learning_rate=0.001), loss='binary_crossentropy', metrics=['accuracy']) \n",
    "\n",
    "# Mostra um resumo da arquitetura do modelo\n",
    "model.summary()"
   ]
  },
  {
   "cell_type": "markdown",
   "id": "b8796608",
   "metadata": {},
   "source": [
    "## PASSO 4: Treinar o Modelo\n",
    "\n",
    "**Objetivo:** Alimentar o modelo com os dados de treino para que ele aprenda."
   ]
  },
  {
   "cell_type": "code",
   "execution_count": 38,
   "id": "88a2d9aa",
   "metadata": {},
   "outputs": [
    {
     "name": "stdout",
     "output_type": "stream",
     "text": [
      "Epoch 1/200\n",
      "\u001b[1m454/454\u001b[0m \u001b[32m━━━━━━━━━━━━━━━━━━━━\u001b[0m\u001b[37m\u001b[0m \u001b[1m8s\u001b[0m 15ms/step - accuracy: 0.5040 - loss: 1.4701 - val_accuracy: 0.5090 - val_loss: 0.6959 - learning_rate: 0.0010\n",
      "Epoch 2/200\n",
      "\u001b[1m454/454\u001b[0m \u001b[32m━━━━━━━━━━━━━━━━━━━━\u001b[0m\u001b[37m\u001b[0m \u001b[1m7s\u001b[0m 16ms/step - accuracy: 0.5053 - loss: 0.6997 - val_accuracy: 0.4941 - val_loss: 0.6944 - learning_rate: 0.0010\n",
      "Epoch 3/200\n",
      "\u001b[1m454/454\u001b[0m \u001b[32m━━━━━━━━━━━━━━━━━━━━\u001b[0m\u001b[37m\u001b[0m \u001b[1m7s\u001b[0m 15ms/step - accuracy: 0.5057 - loss: 0.6970 - val_accuracy: 0.5090 - val_loss: 0.6930 - learning_rate: 0.0010\n",
      "Epoch 4/200\n",
      "\u001b[1m454/454\u001b[0m \u001b[32m━━━━━━━━━━━━━━━━━━━━\u001b[0m\u001b[37m\u001b[0m \u001b[1m7s\u001b[0m 15ms/step - accuracy: 0.4961 - loss: 0.6959 - val_accuracy: 0.4910 - val_loss: 0.6956 - learning_rate: 0.0010\n",
      "Epoch 5/200\n",
      "\u001b[1m454/454\u001b[0m \u001b[32m━━━━━━━━━━━━━━━━━━━━\u001b[0m\u001b[37m\u001b[0m \u001b[1m7s\u001b[0m 15ms/step - accuracy: 0.4965 - loss: 0.6943 - val_accuracy: 0.4910 - val_loss: 0.7090 - learning_rate: 0.0010\n",
      "Epoch 6/200\n",
      "\u001b[1m454/454\u001b[0m \u001b[32m━━━━━━━━━━━━━━━━━━━━\u001b[0m\u001b[37m\u001b[0m \u001b[1m7s\u001b[0m 15ms/step - accuracy: 0.5000 - loss: 0.6943 - val_accuracy: 0.4910 - val_loss: 0.6934 - learning_rate: 0.0010\n",
      "Epoch 7/200\n",
      "\u001b[1m454/454\u001b[0m \u001b[32m━━━━━━━━━━━━━━━━━━━━\u001b[0m\u001b[37m\u001b[0m \u001b[1m6s\u001b[0m 13ms/step - accuracy: 0.4991 - loss: 0.6940 - val_accuracy: 0.5079 - val_loss: 0.6933 - learning_rate: 0.0010\n",
      "Epoch 8/200\n",
      "\u001b[1m454/454\u001b[0m \u001b[32m━━━━━━━━━━━━━━━━━━━━\u001b[0m\u001b[37m\u001b[0m \u001b[1m6s\u001b[0m 13ms/step - accuracy: 0.5048 - loss: 0.6936 - val_accuracy: 0.4907 - val_loss: 0.6935 - learning_rate: 0.0010\n",
      "Epoch 9/200\n",
      "\u001b[1m454/454\u001b[0m \u001b[32m━━━━━━━━━━━━━━━━━━━━\u001b[0m\u001b[37m\u001b[0m \u001b[1m6s\u001b[0m 13ms/step - accuracy: 0.5053 - loss: 0.6940 - val_accuracy: 0.4910 - val_loss: 0.6937 - learning_rate: 0.0010\n",
      "Epoch 10/200\n",
      "\u001b[1m454/454\u001b[0m \u001b[32m━━━━━━━━━━━━━━━━━━━━\u001b[0m\u001b[37m\u001b[0m \u001b[1m6s\u001b[0m 14ms/step - accuracy: 0.5030 - loss: 0.6935 - val_accuracy: 0.4904 - val_loss: 0.6933 - learning_rate: 0.0010\n",
      "Epoch 11/200\n",
      "\u001b[1m454/454\u001b[0m \u001b[32m━━━━━━━━━━━━━━━━━━━━\u001b[0m\u001b[37m\u001b[0m \u001b[1m6s\u001b[0m 13ms/step - accuracy: 0.4997 - loss: 0.6939 - val_accuracy: 0.5034 - val_loss: 0.6931 - learning_rate: 0.0010\n",
      "Epoch 12/200\n",
      "\u001b[1m454/454\u001b[0m \u001b[32m━━━━━━━━━━━━━━━━━━━━\u001b[0m\u001b[37m\u001b[0m \u001b[1m6s\u001b[0m 13ms/step - accuracy: 0.5013 - loss: 0.6939 - val_accuracy: 0.5090 - val_loss: 0.6931 - learning_rate: 0.0010\n",
      "Epoch 13/200\n",
      "\u001b[1m454/454\u001b[0m \u001b[32m━━━━━━━━━━━━━━━━━━━━\u001b[0m\u001b[37m\u001b[0m \u001b[1m6s\u001b[0m 13ms/step - accuracy: 0.5053 - loss: 0.6935 - val_accuracy: 0.4914 - val_loss: 0.6945 - learning_rate: 0.0010\n",
      "Epoch 14/200\n",
      "\u001b[1m454/454\u001b[0m \u001b[32m━━━━━━━━━━━━━━━━━━━━\u001b[0m\u001b[37m\u001b[0m \u001b[1m6s\u001b[0m 13ms/step - accuracy: 0.5074 - loss: 0.6932 - val_accuracy: 0.4990 - val_loss: 0.6939 - learning_rate: 5.0000e-04\n",
      "Epoch 15/200\n",
      "\u001b[1m454/454\u001b[0m \u001b[32m━━━━━━━━━━━━━━━━━━━━\u001b[0m\u001b[37m\u001b[0m \u001b[1m6s\u001b[0m 14ms/step - accuracy: 0.5174 - loss: 0.6925 - val_accuracy: 0.4966 - val_loss: 0.6940 - learning_rate: 5.0000e-04\n",
      "Epoch 16/200\n",
      "\u001b[1m454/454\u001b[0m \u001b[32m━━━━━━━━━━━━━━━━━━━━\u001b[0m\u001b[37m\u001b[0m \u001b[1m7s\u001b[0m 15ms/step - accuracy: 0.5141 - loss: 0.6926 - val_accuracy: 0.4941 - val_loss: 0.6941 - learning_rate: 5.0000e-04\n",
      "Epoch 17/200\n",
      "\u001b[1m454/454\u001b[0m \u001b[32m━━━━━━━━━━━━━━━━━━━━\u001b[0m\u001b[37m\u001b[0m \u001b[1m6s\u001b[0m 13ms/step - accuracy: 0.5197 - loss: 0.6927 - val_accuracy: 0.4979 - val_loss: 0.6969 - learning_rate: 5.0000e-04\n",
      "Epoch 18/200\n",
      "\u001b[1m454/454\u001b[0m \u001b[32m━━━━━━━━━━━━━━━━━━━━\u001b[0m\u001b[37m\u001b[0m \u001b[1m6s\u001b[0m 14ms/step - accuracy: 0.5212 - loss: 0.6920 - val_accuracy: 0.5055 - val_loss: 0.6936 - learning_rate: 5.0000e-04\n"
     ]
    }
   ],
   "source": [
    "# Callbacks para otimizar o treinamento \n",
    "callbacks = [ \n",
    "    EarlyStopping(monitor='val_loss', patience=15, restore_best_weights=True), \n",
    "    ReduceLROnPlateau(monitor='val_loss', factor=0.5, patience=10, min_lr=0.000001)]\n",
    "\n",
    "history = model.fit(\n",
    "    X_train,\n",
    "    y_train,\n",
    "    epochs=200,  # epochs: Quantas vezes o modelo verá todo o conjunto de dados de treino.\n",
    "    batch_size=32,  # batch_size: Quantas amostras o modelo vê antes de atualizar seus pesos.\n",
    "    validation_data=(X_test, y_test),  # Dados para validar o modelo a cada época.\n",
    "    class_weight=class_weight_dict,  # Pesos das classes para lidar com desbalanceamento\n",
    "    callbacks=callbacks,  # Callbacks para otimização do treinamento\n",
    "    verbose=1 # Mostra uma barra de progresso.\n",
    ")"
   ]
  },
  {
   "cell_type": "code",
   "execution_count": 39,
   "id": "0ab1f5d6",
   "metadata": {},
   "outputs": [
    {
     "ename": "SyntaxError",
     "evalue": "invalid syntax (788287138.py, line 3)",
     "output_type": "error",
     "traceback": [
      "\u001b[1;36m  Cell \u001b[1;32mIn[39], line 3\u001b[1;36m\u001b[0m\n\u001b[1;33m    **Objetivo:** Verificar o quão bem o modelo se saiu nos dados de teste.\u001b[0m\n\u001b[1;37m    ^\u001b[0m\n\u001b[1;31mSyntaxError\u001b[0m\u001b[1;31m:\u001b[0m invalid syntax\n"
     ]
    }
   ],
   "source": [
    "## PASSO 5: Avaliar o Modelo\n",
    "\n",
    "**Objetivo:** Verificar o quão bem o modelo se saiu nos dados de teste."
   ]
  },
  {
   "cell_type": "code",
   "execution_count": null,
   "id": "dbb305fb",
   "metadata": {},
   "outputs": [
    {
     "name": "stdout",
     "output_type": "stream",
     "text": [
      "\u001b[1m91/91\u001b[0m \u001b[32m━━━━━━━━━━━━━━━━━━━━\u001b[0m\u001b[37m\u001b[0m \u001b[1m0s\u001b[0m 3ms/step\n",
      "[[0.50809765]\n",
      " [0.5071443 ]\n",
      " [0.5072998 ]\n",
      " ...\n",
      " [0.5074567 ]\n",
      " [0.50773025]\n",
      " [0.5075799 ]]\n",
      "Acurácia no Teste: 50.90%\n",
      "\n",
      "Relatório de Classificação:\n",
      "              precision    recall  f1-score   support\n",
      "\n",
      "    Não Sobe       0.00      0.00      0.00      1425\n",
      "        Sobe       0.51      1.00      0.67      1477\n",
      "\n",
      "    accuracy                           0.51      2902\n",
      "   macro avg       0.25      0.50      0.34      2902\n",
      "weighted avg       0.26      0.51      0.34      2902\n",
      "\n"
     ]
    },
    {
     "name": "stderr",
     "output_type": "stream",
     "text": [
      "c:\\Users\\abgad\\miniconda3\\envs\\trading_env\\lib\\site-packages\\sklearn\\metrics\\_classification.py:1731: UndefinedMetricWarning: Precision is ill-defined and being set to 0.0 in labels with no predicted samples. Use `zero_division` parameter to control this behavior.\n",
      "  _warn_prf(average, modifier, f\"{metric.capitalize()} is\", result.shape[0])\n",
      "c:\\Users\\abgad\\miniconda3\\envs\\trading_env\\lib\\site-packages\\sklearn\\metrics\\_classification.py:1731: UndefinedMetricWarning: Precision is ill-defined and being set to 0.0 in labels with no predicted samples. Use `zero_division` parameter to control this behavior.\n",
      "  _warn_prf(average, modifier, f\"{metric.capitalize()} is\", result.shape[0])\n",
      "c:\\Users\\abgad\\miniconda3\\envs\\trading_env\\lib\\site-packages\\sklearn\\metrics\\_classification.py:1731: UndefinedMetricWarning: Precision is ill-defined and being set to 0.0 in labels with no predicted samples. Use `zero_division` parameter to control this behavior.\n",
      "  _warn_prf(average, modifier, f\"{metric.capitalize()} is\", result.shape[0])\n"
     ]
    }
   ],
   "source": [
    "# Fazer previsões nos dados de teste. A saída será uma probabilidade\n",
    "probabilities = model.predict(X_test)\n",
    "\n",
    "# Converter probabilidades em classes (0 ou 1) usando um limiar de 0.5\n",
    "predictions = (probabilities > 0.5).astype(int)\n",
    "\n",
    "print(probabilities)\n",
    "# Calcular e mostrar as métricas\n",
    "accuracy = accuracy_score(y_test, predictions)\n",
    "cm = confusion_matrix(y_test, predictions)\n",
    "report = classification_report(y_test, predictions, target_names=['Não Sobe', 'Sobe'])\n",
    "\n",
    "print(f\"Acurácia no Teste: {accuracy * 100:.2f}%\")\n",
    "print(\"\\nRelatório de Classificação:\")\n",
    "print(report)"
   ]
  },
  {
   "cell_type": "code",
   "execution_count": null,
   "id": "070d3a81",
   "metadata": {},
   "outputs": [
    {
     "name": "stdout",
     "output_type": "stream",
     "text": [
      "\n",
      "Matriz de Confusão:\n"
     ]
    },
    {
     "data": {
      "image/png": "[encoded data removed]",
      "text/plain": [
       "<Figure size 600x500 with 2 Axes>"
      ]
     },
     "metadata": {},
     "output_type": "display_data"
    }
   ],
   "source": [
    "print(\"\\nMatriz de Confusão:\")\n",
    "# Um mapa de calor para visualizar a matriz de confusão\n",
    "plt.figure(figsize=(6, 5))\n",
    "sns.heatmap(cm, annot=True, fmt='d', cmap='Blues', xticklabels=['Não Sobe', 'Sobe'], yticklabels=['Não Sobe', 'Sobe'])\n",
    "plt.xlabel('Predito')\n",
    "plt.ylabel('Real')\n",
    "plt.title('Matriz de Confusão')\n",
    "plt.show()"
   ]
  },
  {
   "cell_type": "markdown",
   "id": "7f8a3de6",
   "metadata": {},
   "source": [
    "## PASSO 6: Visualizar o Treinamento\n",
    "\n",
    "**Objetivo:** Plotar gráficos para ver se o modelo aprendeu bem ou se teve overfitting."
   ]
  },
  {
   "cell_type": "code",
   "execution_count": null,
   "id": "9fa525db",
   "metadata": {},
   "outputs": [
    {
     "data": {
      "image/png": "[encoded data removed]",
      "text/plain": [
       "<Figure size 1200x500 with 2 Axes>"
      ]
     },
     "metadata": {},
     "output_type": "display_data"
    }
   ],
   "source": [
    "plt.figure(figsize=(12, 5))\n",
    "\n",
    "# Gráfico da Acurácia\n",
    "plt.subplot(1, 2, 1)\n",
    "plt.plot(history.history['accuracy'], label='Acurácia de Treino')\n",
    "plt.plot(history.history['val_accuracy'], label='Acurácia de Validação')\n",
    "plt.title('Acurácia ao Longo das Épocas')\n",
    "plt.xlabel('Época')\n",
    "plt.ylabel('Acurácia')\n",
    "plt.legend()\n",
    "\n",
    "# Gráfico da Perda (Loss)\n",
    "plt.subplot(1, 2, 2)\n",
    "plt.plot(history.history['loss'], label='Perda de Treino')\n",
    "plt.plot(history.history['val_loss'], label='Perda de Validação')\n",
    "plt.title('Perda ao Longo das Épocas')\n",
    "plt.xlabel('Época')\n",
    "plt.ylabel('Perda')\n",
    "plt.legend()\n",
    "\n",
    "plt.tight_layout()\n",
    "plt.show()"
   ]
  },
  {
   "cell_type": "markdown",
   "id": "d01e0065",
   "metadata": {},
   "source": [
    "## PASSO 7: Salvar o Modelo\n",
    "\n",
    "**Objetivo:** Salvar o modelo treinado e o normalizador para uso futuro."
   ]
  },
  {
   "cell_type": "code",
   "execution_count": null,
   "id": "fbefc81d",
   "metadata": {},
   "outputs": [
    {
     "data": {
      "text/plain": [
       "'\\nMODEL_PATH = \"mlp_basic_model.h5\"\\nSCALER_PATH = \"basic_scaler.pkl\"\\n\\nmodel.save(MODEL_PATH)\\njoblib.dump(scaler, SCALER_PATH)\\n\\nprint(f\"Modelo salvo em: {MODEL_PATH}\")\\nprint(f\"Normalizador salvo em: {SCALER_PATH}\")\\n'"
      ]
     },
     "execution_count": 21,
     "metadata": {},
     "output_type": "execute_result"
    }
   ],
   "source": [
    "# Por enquanto não é necessário salvar o modelo\n",
    "'''\n",
    "MODEL_PATH = \"mlp_basic_model.h5\"\n",
    "SCALER_PATH = \"basic_scaler.pkl\"\n",
    "\n",
    "model.save(MODEL_PATH)\n",
    "joblib.dump(scaler, SCALER_PATH)\n",
    "\n",
    "print(f\"Modelo salvo em: {MODEL_PATH}\")\n",
    "print(f\"Normalizador salvo em: {SCALER_PATH}\")\n",
    "'''"
   ]
  },
  {
   "cell_type": "markdown",
   "id": "310063f5",
   "metadata": {},
   "source": [
    "## Conclusão\n",
    "\n",
    "### Já integrado:\n",
    "\n",
    "1. **Carrega dados históricos**\n",
    "2. **Prepara os dados**\n",
    "3. **Constrói um MLP**\n",
    "4. **Treina o modelo**\n",
    "5. **Avalia o desempenho**\n",
    "6. **Visualiza o treinamento**\n",
    "7. **Salva o modelo**\n",
    "\n",
    "### Próximos Passos:\n",
    "- ENTENDER POR QUE O MODELO SÓ FALA QUE VAI SUBIR (ERA POR CAUSA DO MINMAXSCALER, POR TER MUITOS OUTLIERS ELE APERTAVA VALORES INTERMEDIARIOS EM UM INTERVALO MUITO PEQUENO... TROQUEI PARA STANDARDSCALER)\n",
    "- Adicionar features técnicas, prepara-las e dar ao treino do modelo (não creio que esteja bom ainda)\n",
    "- Implementar validação cruzada temporal (implementei)\n",
    "- Testar diferentes janelas temporais"
   ]
  },
  {
   "cell_type": "markdown",
   "id": "30336634",
   "metadata": {},
   "source": [
    "# Testes com outros modelos\n",
    "\n",
    "**Meio freestyle considerando que os dados são reciclados e não adaptados**"
   ]
  },
  {
   "cell_type": "code",
   "execution_count": null,
   "id": "3c101194",
   "metadata": {},
   "outputs": [
    {
     "name": "stdout",
     "output_type": "stream",
     "text": [
      "--- Executando Testes alternativos com HistGradientBoosting ---\n",
      "\n",
      "Relatório de Classificação do HistGradientBoosting:\n",
      "              precision    recall  f1-score   support\n",
      "\n",
      "    Não Sobe       0.49      0.50      0.50      1425\n",
      "        Sobe       0.51      0.50      0.51      1477\n",
      "\n",
      "    accuracy                           0.50      2902\n",
      "   macro avg       0.50      0.50      0.50      2902\n",
      "weighted avg       0.50      0.50      0.50      2902\n",
      "\n"
     ]
    }
   ],
   "source": [
    "from sklearn.ensemble import HistGradientBoostingClassifier\n",
    "from sklearn.metrics import classification_report\n",
    "\n",
    "print(\"--- Executando Testes alternativos com HistGradientBoosting ---\")\n",
    "\n",
    "# Crie e treine o modelo\n",
    "rf_model = HistGradientBoostingClassifier(max_iter=100, random_state=42)\n",
    "rf_model.fit(X_train, y_train)\n",
    "\n",
    "# Faça previsões\n",
    "rf_predictions = rf_model.predict(X_test)\n",
    "# Avalie o resultado\n",
    "print(\"\\nRelatório de Classificação do HistGradientBoosting:\")\n",
    "print(classification_report(y_test, rf_predictions, target_names=['Não Sobe', 'Sobe']))"
   ]
  },
  {
   "cell_type": "code",
   "execution_count": null,
   "id": "bad3a82d",
   "metadata": {},
   "outputs": [
    {
     "name": "stdout",
     "output_type": "stream",
     "text": [
      "--- Executando Testes alternativos com RandomForest ---\n",
      "\n",
      "Relatório de Classificação do RandomForest:\n",
      "              precision    recall  f1-score   support\n",
      "\n",
      "    Não Sobe       0.49      0.52      0.51      1425\n",
      "        Sobe       0.51      0.48      0.50      1477\n",
      "\n",
      "    accuracy                           0.50      2902\n",
      "   macro avg       0.50      0.50      0.50      2902\n",
      "weighted avg       0.50      0.50      0.50      2902\n",
      "\n"
     ]
    }
   ],
   "source": [
    "from sklearn.ensemble import RandomForestClassifier\n",
    "from sklearn.metrics import classification_report\n",
    "\n",
    "print(\"--- Executando Testes alternativos com RandomForest ---\")\n",
    "\n",
    "# Crie e treine o modelo\n",
    "rf_model = RandomForestClassifier(n_estimators=100, random_state=42, n_jobs=-1, class_weight='balanced')\n",
    "rf_model.fit(X_train, y_train)\n",
    "\n",
    "# Faça previsões\n",
    "rf_predictions = rf_model.predict(X_test)\n",
    "# Avalie o resultado\n",
    "print(\"\\nRelatório de Classificação do RandomForest:\")\n",
    "print(classification_report(y_test, rf_predictions, target_names=['Não Sobe', 'Sobe']))"
   ]
  },
  {
   "cell_type": "code",
   "execution_count": null,
   "id": "16d3467a",
   "metadata": {},
   "outputs": [
    {
     "name": "stdout",
     "output_type": "stream",
     "text": [
      "--- Executando Testes alternativos com GradientBoosting ---\n",
      "\n",
      "Relatório de Classificação do GradientBoosting:\n",
      "              precision    recall  f1-score   support\n",
      "\n",
      "    Não Sobe       0.50      0.52      0.51      1425\n",
      "        Sobe       0.52      0.51      0.52      1477\n",
      "\n",
      "    accuracy                           0.51      2902\n",
      "   macro avg       0.51      0.51      0.51      2902\n",
      "weighted avg       0.51      0.51      0.51      2902\n",
      "\n"
     ]
    }
   ],
   "source": [
    "from sklearn.ensemble import GradientBoostingClassifier\n",
    "from sklearn.metrics import classification_report\n",
    "\n",
    "print(\"--- Executando Testes alternativos com GradientBoosting ---\")\n",
    "\n",
    "# Crie e treine o modelo\n",
    "rf_model = GradientBoostingClassifier(\n",
    "    n_estimators=200,         # Mais árvores pode melhorar, mas aumenta o tempo de treino\n",
    "    learning_rate=0.05,       # Menor learning_rate pode melhorar generalização, mas exige mais árvores\n",
    "    max_depth=4,              # Profundidade das árvores (3-5 é comum)\n",
    "    subsample=0.8,            # Amostragem estocástica para robustez (0.8 é um bom começo)\n",
    "    max_features='sqrt',      # Considera sqrt(n_features) em cada split (ajuda a evitar overfitting)\n",
    "    random_state=42\n",
    ")\n",
    "rf_model.fit(X_train, y_train)\n",
    "\n",
    "# Faça previsões\n",
    "rf_predictions = rf_model.predict(X_test)\n",
    "# Avalie o resultado\n",
    "print(\"\\nRelatório de Classificação do GradientBoosting:\")\n",
    "print(classification_report(y_test, rf_predictions, target_names=['Não Sobe', 'Sobe']))"
   ]
  },
  {
   "cell_type": "code",
   "execution_count": null,
   "id": "49754d24",
   "metadata": {},
   "outputs": [
    {
     "name": "stdout",
     "output_type": "stream",
     "text": [
      "--- Executando Testes alternativos com StackingClassifier ---\n",
      "\n",
      "Relatório de Classificação do StackingClassifier:\n",
      "              precision    recall  f1-score   support\n",
      "\n",
      "    Não Sobe       0.50      0.51      0.50      1425\n",
      "        Sobe       0.51      0.50      0.51      1477\n",
      "\n",
      "    accuracy                           0.51      2902\n",
      "   macro avg       0.51      0.51      0.51      2902\n",
      "weighted avg       0.51      0.51      0.51      2902\n",
      "\n"
     ]
    }
   ],
   "source": [
    "from sklearn.ensemble import StackingClassifier\n",
    "from sklearn.metrics import classification_report\n",
    "from sklearn.ensemble import RandomForestClassifier, GradientBoostingClassifier\n",
    "\n",
    "print(\"--- Executando Testes alternativos com StackingClassifier ---\")\n",
    "\n",
    "# Crie e treine o modelo\n",
    "estimators = [\n",
    "    ('rf', RandomForestClassifier(n_estimators=100, random_state=42, n_jobs=-1, class_weight='balanced')),\n",
    "    ('gb', GradientBoostingClassifier(\n",
    "        n_estimators=100,\n",
    "        learning_rate=0.05,\n",
    "        max_depth=4,\n",
    "        subsample=0.8,\n",
    "        max_features='sqrt',\n",
    "        random_state=42\n",
    "    ))\n",
    "]\n",
    "\n",
    "rf_model = StackingClassifier(\n",
    "    estimators=estimators,\n",
    "    final_estimator=RandomForestClassifier(n_estimators=50, random_state=42, n_jobs=-1, class_weight='balanced'),\n",
    "    n_jobs=-1,\n",
    "    passthrough=False\n",
    ")\n",
    "rf_model.fit(X_train, y_train)\n",
    "\n",
    "# Faça previsões\n",
    "rf_predictions = rf_model.predict(X_test)\n",
    "# Avalie o resultado\n",
    "print(\"\\nRelatório de Classificação do StackingClassifier:\")\n",
    "print(classification_report(y_test, rf_predictions, target_names=['Não Sobe', 'Sobe']))"
   ]
  },
  {
   "cell_type": "code",
   "execution_count": null,
   "id": "85430125",
   "metadata": {},
   "outputs": [
    {
     "name": "stdout",
     "output_type": "stream",
     "text": [
      "--- Executando Testes alternativos com ExtraTreesClassifier ---\n",
      "\n",
      "Relatório de Classificação do ExtraTreesClassifier:\n",
      "              precision    recall  f1-score   support\n",
      "\n",
      "    Não Sobe       0.49      0.49      0.49      1425\n",
      "        Sobe       0.51      0.50      0.50      1477\n",
      "\n",
      "    accuracy                           0.50      2902\n",
      "   macro avg       0.50      0.50      0.50      2902\n",
      "weighted avg       0.50      0.50      0.50      2902\n",
      "\n"
     ]
    }
   ],
   "source": [
    "from sklearn.ensemble import ExtraTreesClassifier\n",
    "from sklearn.metrics import classification_report\n",
    "\n",
    "print(\"--- Executando Testes alternativos com ExtraTreesClassifier ---\")\n",
    "\n",
    "# Crie e treine o modelo\n",
    "rf_model = ExtraTreesClassifier(\n",
    "    n_estimators=200,         # Número de árvores na floresta\n",
    "    max_depth=6,              # Profundidade máxima das árvores (ajuda a evitar overfitting)\n",
    "    max_features='sqrt',      # Número de features consideradas em cada split\n",
    "    min_samples_split=5,      # Mínimo de amostras para dividir um nó interno\n",
    "    min_samples_leaf=3,       # Mínimo de amostras em cada folha\n",
    "    class_weight='balanced',  # Balanceia as classes automaticamente\n",
    "    n_jobs=-1,                # Usa todos os núcleos disponíveis\n",
    "    random_state=42           # Reprodutibilidade\n",
    ")\n",
    "rf_model.fit(X_train, y_train)\n",
    "\n",
    "# Faça previsões\n",
    "rf_predictions = rf_model.predict(X_test)\n",
    "# Avalie o resultado\n",
    "print(\"\\nRelatório de Classificação do ExtraTreesClassifier:\")\n",
    "print(classification_report(y_test, rf_predictions, target_names=['Não Sobe', 'Sobe']))"
   ]
  }
 ],
 "metadata": {
  "kernelspec": {
   "display_name": "trading_env",
   "language": "python",
   "name": "python3"
  },
  "language_info": {
   "codemirror_mode": {
    "name": "ipython",
    "version": 3
   },
   "file_extension": ".py",
   "mimetype": "text/x-python",
   "name": "python",
   "nbconvert_exporter": "python",
   "pygments_lexer": "ipython3",
   "version": "3.10.18"
  }
 },
 "nbformat": 4,
 "nbformat_minor": 5
}
