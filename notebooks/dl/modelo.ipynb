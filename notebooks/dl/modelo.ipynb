{
 "cells": [
  {
   "cell_type": "markdown",
   "id": "8a546866",
   "metadata": {},
   "source": [
    "# Modelo MLP para Previsão de Preços de Criptomoedas"
   ]
  },
  {
   "cell_type": "markdown",
   "id": "49e45948",
   "metadata": {},
   "source": [
    "## Importação das Bibliotecas"
   ]
  },
  {
   "cell_type": "code",
   "execution_count": 165,
   "id": "03575e8a",
   "metadata": {},
   "outputs": [],
   "source": [
    "import numpy as np\n",
    "import pandas as pd\n",
    "import matplotlib.pyplot as plt\n",
    "import seaborn as sns\n",
    "from sklearn.preprocessing import MinMaxScaler, StandardScaler\n",
    "from sklearn.metrics import confusion_matrix, classification_report, accuracy_score\n",
    "from sklearn.utils.class_weight import compute_class_weight\n",
    "from tensorflow.keras.models import Sequential\n",
    "from tensorflow.keras.layers import Dense, Dropout, Input, PReLU\n",
    "from tensorflow.keras.optimizers import Adam\n",
    "import joblib"
   ]
  },
  {
   "cell_type": "markdown",
   "id": "bfbfd25f",
   "metadata": {},
   "source": [
    "## PASSO 1: Carregar e Preparar os Dados\n",
    "\n",
    "**Objetivo:** Ler o arquivo CSV e garantir que ele esteja em ordem."
   ]
  },
  {
   "cell_type": "code",
   "execution_count": 166,
   "id": "b1870108",
   "metadata": {},
   "outputs": [
    {
     "name": "stdout",
     "output_type": "stream",
     "text": [
      "Dados carregados: 70080 registros.\n",
      "            timestamp   open   high    low  close     volume\n",
      "0 2023-07-20 15:30:00  26.20  26.21  25.75  25.91  121467.56\n",
      "1 2023-07-20 15:45:00  25.90  25.91  25.57  25.69  191787.08\n",
      "2 2023-07-20 16:00:00  25.69  25.77  25.56  25.66  106474.05\n",
      "3 2023-07-20 16:15:00  25.67  25.67  25.21  25.37  170476.73\n",
      "4 2023-07-20 16:30:00  25.38  25.47  25.33  25.42   75885.50\n"
     ]
    }
   ],
   "source": [
    "# Carrega os dados do arquivo CSV\n",
    "df = pd.read_csv(r\"C:\\Users\\david\\Desktop\\trading-algoritmico\\data\\fechamentos\\SOLUSDT_15m_data.csv\")\n",
    "\n",
    "# Garante que a coluna 'timestamp' seja do tipo data e ordena os dados\n",
    "df['timestamp'] = pd.to_datetime(df['timestamp'])\n",
    "df = df.sort_values('timestamp')\n",
    "df = df.reset_index(drop=True)\n",
    "\n",
    "# Remove colunas com nomes \"Unnamed\".\n",
    "df = df.loc[:, ~df.columns.str.contains('^Unnamed')]\n",
    "\n",
    "print(f\"Dados carregados: {df.shape[0]} registros.\")\n",
    "print(df.head())"
   ]
  },
  {
   "cell_type": "markdown",
   "id": "86a6fb8d",
   "metadata": {},
   "source": [
    "## PASSO 2: Preparar os Dados para o Modelo\n",
    "\n",
    "**Objetivo:** Transformar os dados brutos em um formato que a rede neural entenda (features e target)."
   ]
  },
  {
   "cell_type": "code",
   "execution_count": 167,
   "id": "d5584385",
   "metadata": {},
   "outputs": [],
   "source": [
    "# --- Calculo dos Indicadores ---\n",
    "# Calcula as variações percentuais de 'close' e 'volume'\n",
    "df['close_pct'] = df['close'].pct_change()\n",
    "df['volume_pct'] = df['volume'].pct_change()\n",
    "\n",
    "# Calcula a média móvel simples de 10 e 30 períodos para 'close'\n",
    "df['sma_10'] = df['close'].rolling(window=10).mean()\n",
    "df['sma_30'] = df['close'].rolling(window=30).mean()\n",
    "\n",
    "# Calcula o Índice de Força Relativa (RSI) de 14 períodos\n",
    "def rsi(series, period=14):\n",
    "    gain = (series.where(series > 0, 0)).rolling(window=period).mean()\n",
    "    loss = (-series.where(series < 0, 0)).rolling(window=period).mean()\n",
    "    rs = gain / loss\n",
    "    return 100 - (100 / (1 + rs))\n",
    "df['rsi'] = rsi(df['close'])\n",
    "\n",
    "# Calcula o MACD\n",
    "def macd(series, short_window=12, long_window=26, signal_window=9):\n",
    "    exp1 = series.ewm(span=short_window, adjust=False).mean()\n",
    "    exp2 = series.ewm(span=long_window, adjust=False).mean()\n",
    "    macd_line = exp1 - exp2\n",
    "    signal_line = macd_line.ewm(span=signal_window, adjust=False).mean()\n",
    "    return macd_line, signal_line\n",
    "df['macd'], df['macd_signal'] = macd(df['close'])\n",
    "\n",
    "# Apaga as linhas com valores NaN\n",
    "df = df.dropna()\n",
    "df = df.reset_index(drop=True)\n"
   ]
  },
  {
   "cell_type": "code",
   "execution_count": 168,
   "id": "d86a29b8",
   "metadata": {},
   "outputs": [
    {
     "name": "stdout",
     "output_type": "stream",
     "text": [
      "Features definidas: ['close_pct', 'volume_pct', 'sma_10', 'sma_30', 'rsi', 'macd', 'macd_signal']\n",
      "Sequence length: 24\n",
      "Shape dos dados brutos: (70051, 7)\n"
     ]
    }
   ],
   "source": [
    "# --- Definição das Variáveis ---\n",
    "FEATURE_COLUMNS = ['close_pct', 'volume_pct', 'sma_10', 'sma_30', 'rsi', 'macd', 'macd_signal']\n",
    "TARGET_COLUMN = 'close'\n",
    "\n",
    "# SEQUENCE_LENGTH: Quantos períodos olharemos para trás para prever o próximo.\n",
    "SEQUENCE_LENGTH = 24\n",
    "\n",
    "# --- Criação das Features (X) e do Alvo (y) ---\n",
    "# O alvo (y) será binário: 1 se o preço subir, 0 se não.\n",
    "# df[TARGET_COLUMN].shift(-1) pega o preço de fechamento do *próximo* período.\n",
    "y = (df[TARGET_COLUMN].shift(-1) > df[TARGET_COLUMN]).astype(int)\n",
    "\n",
    "# As features (X) serão os dados OHLCV.\n",
    "X_raw = df[FEATURE_COLUMNS]\n",
    "\n",
    "print(f\"Features definidas: {FEATURE_COLUMNS}\")\n",
    "print(f\"Sequence length: {SEQUENCE_LENGTH}\")\n",
    "print(f\"Shape dos dados brutos: {X_raw.shape}\")"
   ]
  },
  {
   "cell_type": "code",
   "execution_count": 169,
   "id": "15aa9e7c",
   "metadata": {},
   "outputs": [
    {
     "name": "stdout",
     "output_type": "stream",
     "text": [
      "Dados normalizados. Shape: (70051, 7)\n",
      "Min: -21.15974916587698, Max: 94.97047796421283\n"
     ]
    }
   ],
   "source": [
    "# --- Normalização dos Dados ---\n",
    "# Importante para redes neurais, pois ajuda na convergência do modelo\n",
    "scaler = StandardScaler()\n",
    "X_scaled = scaler.fit_transform(X_raw)\n",
    "\n",
    "print(f\"Dados normalizados. Shape: {X_scaled.shape}\")\n",
    "print(f\"Min: {X_scaled.min()}, Max: {X_scaled.max()}\")"
   ]
  },
  {
   "cell_type": "code",
   "execution_count": 170,
   "id": "bca6c935",
   "metadata": {},
   "outputs": [
    {
     "name": "stdout",
     "output_type": "stream",
     "text": [
      "Sequências criadas. X shape: (70027, 24, 7), y shape: (70027,)\n"
     ]
    }
   ],
   "source": [
    "# --- Criação das Sequências ---\n",
    "# Cria sequências de dados para o modelo\n",
    "X_sequences, y_sequences = [], []\n",
    "for i in range(len(X_scaled) - SEQUENCE_LENGTH):\n",
    "    X_sequences.append(X_scaled[i : i + SEQUENCE_LENGTH])\n",
    "    y_sequences.append(y[i + SEQUENCE_LENGTH -1]) # O alvo corresponde ao final da sequência\n",
    "\n",
    "X = np.array(X_sequences)\n",
    "y = np.array(y_sequences)\n",
    "\n",
    "print(f\"Sequências criadas. X shape: {X.shape}, y shape: {y.shape}\")"
   ]
  },
  {
   "cell_type": "code",
   "execution_count": 171,
   "id": "8a343bc1",
   "metadata": {},
   "outputs": [
    {
     "name": "stdout",
     "output_type": "stream",
     "text": [
      "Shape de X (features): (70027, 168)\n",
      "Shape de y (alvo): (70027,)\n"
     ]
    }
   ],
   "source": [
    "# --- Reshape do X para o MLP ---\n",
    "# O MLP espera uma entrada 2D, então precisa achatar as sequências\n",
    "num_samples = X.shape[0]\n",
    "num_features_flat = X.shape[1] * X.shape[2]\n",
    "X = X.reshape(num_samples, num_features_flat)\n",
    "\n",
    "print(f\"Shape de X (features): {X.shape}\")\n",
    "print(f\"Shape de y (alvo): {y.shape}\")"
   ]
  },
  {
   "cell_type": "code",
   "execution_count": 172,
   "id": "802dca7d",
   "metadata": {},
   "outputs": [
    {
     "name": "stdout",
     "output_type": "stream",
     "text": [
      "Amostras de treino: 56021\n",
      "Amostras de teste: 14006\n",
      "Distribuição do target no treino: [28310 27711]\n",
      "Distribuição do target no teste: [7017 6989]\n"
     ]
    }
   ],
   "source": [
    "# --- Divisão em Treino e Teste ---\n",
    "# Divisão dos dados em treino e teste\n",
    "split_ratio = 0.8\n",
    "split_index = int(len(X) * split_ratio)\n",
    "\n",
    "X_train, X_test = X[:split_index], X[split_index:]\n",
    "y_train, y_test = y[:split_index], y[split_index:]\n",
    "\n",
    "# Tentativa de balancear as classes, evitando a mesma reposta sempre\n",
    "class_weights = compute_class_weight(\n",
    "    class_weight='balanced',\n",
    "    classes=np.unique(y_train),\n",
    "    y=y_train\n",
    ")\n",
    "\n",
    "class_weight_dict = dict(enumerate(class_weights))\n",
    "\n",
    "print(f\"Amostras de treino: {len(X_train)}\")\n",
    "print(f\"Amostras de teste: {len(X_test)}\")\n",
    "print(f\"Distribuição do target no treino: {np.bincount(y_train)}\")\n",
    "print(f\"Distribuição do target no teste: {np.bincount(y_test)}\")"
   ]
  },
  {
   "cell_type": "markdown",
   "id": "bcce5f9e",
   "metadata": {},
   "source": [
    "## PASSO 3: Construir o Modelo (MLP)\n",
    "\n",
    "**Objetivo:** Definir a arquitetura da nossa rede neural."
   ]
  },
  {
   "cell_type": "code",
   "execution_count": 173,
   "id": "48b78139",
   "metadata": {},
   "outputs": [],
   "source": [
    "model = Sequential()\n",
    "\n",
    "# Camada de Entrada: Define o formato da nossa entrada\n",
    "model.add(Input(shape=(num_features_flat,)))\n",
    "\n",
    "# 1ª Camada Oculta: Primeira camada que aprende os padrões\n",
    "model.add(Dense(units=128))\n",
    "\n",
    "# PReLU é uma ativação que pode aprender a inclinação\n",
    "model.add(PReLU())  \n",
    "\n",
    "# Camada de Dropout: Ajuda a prevenir overfitting\n",
    "model.add(Dropout(rate=0.4))\n",
    "\n",
    "# 2ª Camada Oculta: Segunda camada para aprender padrões mais complexos\n",
    "model.add(Dense(units=64))\n",
    "\n",
    "# PReLU é uma ativação que pode aprender a inclinação\n",
    "model.add(PReLU())\n",
    "\n",
    "# Camada de Dropout: Ajuda a prevenir overfitting\n",
    "model.add(Dropout(rate=0.4))\n",
    "\n",
    "# Camada de Saída: Gera a previsão final\n",
    "model.add(Dense(units=1, activation='sigmoid'))"
   ]
  },
  {
   "cell_type": "code",
   "execution_count": 174,
   "id": "c92ecf38",
   "metadata": {},
   "outputs": [
    {
     "data": {
      "text/html": [
       "<pre style=\"white-space:pre;overflow-x:auto;line-height:normal;font-family:Menlo,'DejaVu Sans Mono',consolas,'Courier New',monospace\"><span style=\"font-weight: bold\">Model: \"sequential_13\"</span>\n",
       "</pre>\n"
      ],
      "text/plain": [
       "\u001b[1mModel: \"sequential_13\"\u001b[0m\n"
      ]
     },
     "metadata": {},
     "output_type": "display_data"
    },
    {
     "data": {
      "text/html": [
       "<pre style=\"white-space:pre;overflow-x:auto;line-height:normal;font-family:Menlo,'DejaVu Sans Mono',consolas,'Courier New',monospace\">┏━━━━━━━━━━━━━━━━━━━━━━━━━━━━━━━━━┳━━━━━━━━━━━━━━━━━━━━━━━━┳━━━━━━━━━━━━━━━┓\n",
       "┃<span style=\"font-weight: bold\"> Layer (type)                    </span>┃<span style=\"font-weight: bold\"> Output Shape           </span>┃<span style=\"font-weight: bold\">       Param # </span>┃\n",
       "┡━━━━━━━━━━━━━━━━━━━━━━━━━━━━━━━━━╇━━━━━━━━━━━━━━━━━━━━━━━━╇━━━━━━━━━━━━━━━┩\n",
       "│ dense_39 (<span style=\"color: #0087ff; text-decoration-color: #0087ff\">Dense</span>)                │ (<span style=\"color: #00d7ff; text-decoration-color: #00d7ff\">None</span>, <span style=\"color: #00af00; text-decoration-color: #00af00\">128</span>)            │        <span style=\"color: #00af00; text-decoration-color: #00af00\">21,632</span> │\n",
       "├─────────────────────────────────┼────────────────────────┼───────────────┤\n",
       "│ p_re_lu_8 (<span style=\"color: #0087ff; text-decoration-color: #0087ff\">PReLU</span>)               │ (<span style=\"color: #00d7ff; text-decoration-color: #00d7ff\">None</span>, <span style=\"color: #00af00; text-decoration-color: #00af00\">128</span>)            │           <span style=\"color: #00af00; text-decoration-color: #00af00\">128</span> │\n",
       "├─────────────────────────────────┼────────────────────────┼───────────────┤\n",
       "│ dropout_16 (<span style=\"color: #0087ff; text-decoration-color: #0087ff\">Dropout</span>)            │ (<span style=\"color: #00d7ff; text-decoration-color: #00d7ff\">None</span>, <span style=\"color: #00af00; text-decoration-color: #00af00\">128</span>)            │             <span style=\"color: #00af00; text-decoration-color: #00af00\">0</span> │\n",
       "├─────────────────────────────────┼────────────────────────┼───────────────┤\n",
       "│ dense_40 (<span style=\"color: #0087ff; text-decoration-color: #0087ff\">Dense</span>)                │ (<span style=\"color: #00d7ff; text-decoration-color: #00d7ff\">None</span>, <span style=\"color: #00af00; text-decoration-color: #00af00\">64</span>)             │         <span style=\"color: #00af00; text-decoration-color: #00af00\">8,256</span> │\n",
       "├─────────────────────────────────┼────────────────────────┼───────────────┤\n",
       "│ p_re_lu_9 (<span style=\"color: #0087ff; text-decoration-color: #0087ff\">PReLU</span>)               │ (<span style=\"color: #00d7ff; text-decoration-color: #00d7ff\">None</span>, <span style=\"color: #00af00; text-decoration-color: #00af00\">64</span>)             │            <span style=\"color: #00af00; text-decoration-color: #00af00\">64</span> │\n",
       "├─────────────────────────────────┼────────────────────────┼───────────────┤\n",
       "│ dropout_17 (<span style=\"color: #0087ff; text-decoration-color: #0087ff\">Dropout</span>)            │ (<span style=\"color: #00d7ff; text-decoration-color: #00d7ff\">None</span>, <span style=\"color: #00af00; text-decoration-color: #00af00\">64</span>)             │             <span style=\"color: #00af00; text-decoration-color: #00af00\">0</span> │\n",
       "├─────────────────────────────────┼────────────────────────┼───────────────┤\n",
       "│ dense_41 (<span style=\"color: #0087ff; text-decoration-color: #0087ff\">Dense</span>)                │ (<span style=\"color: #00d7ff; text-decoration-color: #00d7ff\">None</span>, <span style=\"color: #00af00; text-decoration-color: #00af00\">1</span>)              │            <span style=\"color: #00af00; text-decoration-color: #00af00\">65</span> │\n",
       "└─────────────────────────────────┴────────────────────────┴───────────────┘\n",
       "</pre>\n"
      ],
      "text/plain": [
       "┏━━━━━━━━━━━━━━━━━━━━━━━━━━━━━━━━━┳━━━━━━━━━━━━━━━━━━━━━━━━┳━━━━━━━━━━━━━━━┓\n",
       "┃\u001b[1m \u001b[0m\u001b[1mLayer (type)                   \u001b[0m\u001b[1m \u001b[0m┃\u001b[1m \u001b[0m\u001b[1mOutput Shape          \u001b[0m\u001b[1m \u001b[0m┃\u001b[1m \u001b[0m\u001b[1m      Param #\u001b[0m\u001b[1m \u001b[0m┃\n",
       "┡━━━━━━━━━━━━━━━━━━━━━━━━━━━━━━━━━╇━━━━━━━━━━━━━━━━━━━━━━━━╇━━━━━━━━━━━━━━━┩\n",
       "│ dense_39 (\u001b[38;5;33mDense\u001b[0m)                │ (\u001b[38;5;45mNone\u001b[0m, \u001b[38;5;34m128\u001b[0m)            │        \u001b[38;5;34m21,632\u001b[0m │\n",
       "├─────────────────────────────────┼────────────────────────┼───────────────┤\n",
       "│ p_re_lu_8 (\u001b[38;5;33mPReLU\u001b[0m)               │ (\u001b[38;5;45mNone\u001b[0m, \u001b[38;5;34m128\u001b[0m)            │           \u001b[38;5;34m128\u001b[0m │\n",
       "├─────────────────────────────────┼────────────────────────┼───────────────┤\n",
       "│ dropout_16 (\u001b[38;5;33mDropout\u001b[0m)            │ (\u001b[38;5;45mNone\u001b[0m, \u001b[38;5;34m128\u001b[0m)            │             \u001b[38;5;34m0\u001b[0m │\n",
       "├─────────────────────────────────┼────────────────────────┼───────────────┤\n",
       "│ dense_40 (\u001b[38;5;33mDense\u001b[0m)                │ (\u001b[38;5;45mNone\u001b[0m, \u001b[38;5;34m64\u001b[0m)             │         \u001b[38;5;34m8,256\u001b[0m │\n",
       "├─────────────────────────────────┼────────────────────────┼───────────────┤\n",
       "│ p_re_lu_9 (\u001b[38;5;33mPReLU\u001b[0m)               │ (\u001b[38;5;45mNone\u001b[0m, \u001b[38;5;34m64\u001b[0m)             │            \u001b[38;5;34m64\u001b[0m │\n",
       "├─────────────────────────────────┼────────────────────────┼───────────────┤\n",
       "│ dropout_17 (\u001b[38;5;33mDropout\u001b[0m)            │ (\u001b[38;5;45mNone\u001b[0m, \u001b[38;5;34m64\u001b[0m)             │             \u001b[38;5;34m0\u001b[0m │\n",
       "├─────────────────────────────────┼────────────────────────┼───────────────┤\n",
       "│ dense_41 (\u001b[38;5;33mDense\u001b[0m)                │ (\u001b[38;5;45mNone\u001b[0m, \u001b[38;5;34m1\u001b[0m)              │            \u001b[38;5;34m65\u001b[0m │\n",
       "└─────────────────────────────────┴────────────────────────┴───────────────┘\n"
      ]
     },
     "metadata": {},
     "output_type": "display_data"
    },
    {
     "data": {
      "text/html": [
       "<pre style=\"white-space:pre;overflow-x:auto;line-height:normal;font-family:Menlo,'DejaVu Sans Mono',consolas,'Courier New',monospace\"><span style=\"font-weight: bold\"> Total params: </span><span style=\"color: #00af00; text-decoration-color: #00af00\">30,145</span> (117.75 KB)\n",
       "</pre>\n"
      ],
      "text/plain": [
       "\u001b[1m Total params: \u001b[0m\u001b[38;5;34m30,145\u001b[0m (117.75 KB)\n"
      ]
     },
     "metadata": {},
     "output_type": "display_data"
    },
    {
     "data": {
      "text/html": [
       "<pre style=\"white-space:pre;overflow-x:auto;line-height:normal;font-family:Menlo,'DejaVu Sans Mono',consolas,'Courier New',monospace\"><span style=\"font-weight: bold\"> Trainable params: </span><span style=\"color: #00af00; text-decoration-color: #00af00\">30,145</span> (117.75 KB)\n",
       "</pre>\n"
      ],
      "text/plain": [
       "\u001b[1m Trainable params: \u001b[0m\u001b[38;5;34m30,145\u001b[0m (117.75 KB)\n"
      ]
     },
     "metadata": {},
     "output_type": "display_data"
    },
    {
     "data": {
      "text/html": [
       "<pre style=\"white-space:pre;overflow-x:auto;line-height:normal;font-family:Menlo,'DejaVu Sans Mono',consolas,'Courier New',monospace\"><span style=\"font-weight: bold\"> Non-trainable params: </span><span style=\"color: #00af00; text-decoration-color: #00af00\">0</span> (0.00 B)\n",
       "</pre>\n"
      ],
      "text/plain": [
       "\u001b[1m Non-trainable params: \u001b[0m\u001b[38;5;34m0\u001b[0m (0.00 B)\n"
      ]
     },
     "metadata": {},
     "output_type": "display_data"
    }
   ],
   "source": [
    "# --- Compilação do Modelo ---\n",
    "# O modelo é compilado com o otimizador Adam e a função de perda binary_crossentropy, adequada para problemas de classificação binária\n",
    "model.compile(optimizer=Adam(learning_rate=0.0001), loss='binary_crossentropy', metrics=['accuracy'])\n",
    "\n",
    "# Mostra um resumo da arquitetura do modelo\n",
    "model.summary()"
   ]
  },
  {
   "cell_type": "markdown",
   "id": "b8796608",
   "metadata": {},
   "source": [
    "## PASSO 4: Treinar o Modelo\n",
    "\n",
    "**Objetivo:** Alimentar o modelo com os dados de treino para que ele aprenda."
   ]
  },
  {
   "cell_type": "code",
   "execution_count": 175,
   "id": "88a2d9aa",
   "metadata": {},
   "outputs": [
    {
     "name": "stdout",
     "output_type": "stream",
     "text": [
      "Epoch 1/30\n",
      "\u001b[1m1751/1751\u001b[0m \u001b[32m━━━━━━━━━━━━━━━━━━━━\u001b[0m\u001b[37m\u001b[0m \u001b[1m3s\u001b[0m 1ms/step - accuracy: 0.4984 - loss: 0.7527 - val_accuracy: 0.5069 - val_loss: 0.6937\n",
      "Epoch 2/30\n",
      "\u001b[1m1751/1751\u001b[0m \u001b[32m━━━━━━━━━━━━━━━━━━━━\u001b[0m\u001b[37m\u001b[0m \u001b[1m2s\u001b[0m 1ms/step - accuracy: 0.5054 - loss: 0.7017 - val_accuracy: 0.5155 - val_loss: 0.6926\n",
      "Epoch 3/30\n",
      "\u001b[1m1751/1751\u001b[0m \u001b[32m━━━━━━━━━━━━━━━━━━━━\u001b[0m\u001b[37m\u001b[0m \u001b[1m2s\u001b[0m 1ms/step - accuracy: 0.5064 - loss: 0.6978 - val_accuracy: 0.5101 - val_loss: 0.6925\n",
      "Epoch 4/30\n",
      "\u001b[1m1751/1751\u001b[0m \u001b[32m━━━━━━━━━━━━━━━━━━━━\u001b[0m\u001b[37m\u001b[0m \u001b[1m2s\u001b[0m 1ms/step - accuracy: 0.5127 - loss: 0.6947 - val_accuracy: 0.5129 - val_loss: 0.6925\n",
      "Epoch 5/30\n",
      "\u001b[1m1751/1751\u001b[0m \u001b[32m━━━━━━━━━━━━━━━━━━━━\u001b[0m\u001b[37m\u001b[0m \u001b[1m2s\u001b[0m 1ms/step - accuracy: 0.5104 - loss: 0.6944 - val_accuracy: 0.5112 - val_loss: 0.6926\n",
      "Epoch 6/30\n",
      "\u001b[1m1751/1751\u001b[0m \u001b[32m━━━━━━━━━━━━━━━━━━━━\u001b[0m\u001b[37m\u001b[0m \u001b[1m2s\u001b[0m 1ms/step - accuracy: 0.5132 - loss: 0.6934 - val_accuracy: 0.5186 - val_loss: 0.6926\n",
      "Epoch 7/30\n",
      "\u001b[1m1751/1751\u001b[0m \u001b[32m━━━━━━━━━━━━━━━━━━━━\u001b[0m\u001b[37m\u001b[0m \u001b[1m2s\u001b[0m 1ms/step - accuracy: 0.5204 - loss: 0.6923 - val_accuracy: 0.5142 - val_loss: 0.6925\n",
      "Epoch 8/30\n",
      "\u001b[1m1751/1751\u001b[0m \u001b[32m━━━━━━━━━━━━━━━━━━━━\u001b[0m\u001b[37m\u001b[0m \u001b[1m2s\u001b[0m 1ms/step - accuracy: 0.5181 - loss: 0.6921 - val_accuracy: 0.5176 - val_loss: 0.6925\n",
      "Epoch 9/30\n",
      "\u001b[1m1751/1751\u001b[0m \u001b[32m━━━━━━━━━━━━━━━━━━━━\u001b[0m\u001b[37m\u001b[0m \u001b[1m2s\u001b[0m 1ms/step - accuracy: 0.5200 - loss: 0.6922 - val_accuracy: 0.5184 - val_loss: 0.6924\n",
      "Epoch 10/30\n",
      "\u001b[1m1751/1751\u001b[0m \u001b[32m━━━━━━━━━━━━━━━━━━━━\u001b[0m\u001b[37m\u001b[0m \u001b[1m2s\u001b[0m 1ms/step - accuracy: 0.5174 - loss: 0.6918 - val_accuracy: 0.5208 - val_loss: 0.6924\n",
      "Epoch 11/30\n",
      "\u001b[1m1751/1751\u001b[0m \u001b[32m━━━━━━━━━━━━━━━━━━━━\u001b[0m\u001b[37m\u001b[0m \u001b[1m2s\u001b[0m 1ms/step - accuracy: 0.5217 - loss: 0.6914 - val_accuracy: 0.5194 - val_loss: 0.6925\n",
      "Epoch 12/30\n",
      "\u001b[1m1751/1751\u001b[0m \u001b[32m━━━━━━━━━━━━━━━━━━━━\u001b[0m\u001b[37m\u001b[0m \u001b[1m2s\u001b[0m 1ms/step - accuracy: 0.5228 - loss: 0.6916 - val_accuracy: 0.5183 - val_loss: 0.6924\n",
      "Epoch 13/30\n",
      "\u001b[1m1751/1751\u001b[0m \u001b[32m━━━━━━━━━━━━━━━━━━━━\u001b[0m\u001b[37m\u001b[0m \u001b[1m2s\u001b[0m 1ms/step - accuracy: 0.5230 - loss: 0.6915 - val_accuracy: 0.5195 - val_loss: 0.6923\n",
      "Epoch 14/30\n",
      "\u001b[1m1751/1751\u001b[0m \u001b[32m━━━━━━━━━━━━━━━━━━━━\u001b[0m\u001b[37m\u001b[0m \u001b[1m2s\u001b[0m 1ms/step - accuracy: 0.5217 - loss: 0.6910 - val_accuracy: 0.5210 - val_loss: 0.6924\n",
      "Epoch 15/30\n",
      "\u001b[1m1751/1751\u001b[0m \u001b[32m━━━━━━━━━━━━━━━━━━━━\u001b[0m\u001b[37m\u001b[0m \u001b[1m2s\u001b[0m 1ms/step - accuracy: 0.5193 - loss: 0.6909 - val_accuracy: 0.5153 - val_loss: 0.6924\n",
      "Epoch 16/30\n",
      "\u001b[1m1751/1751\u001b[0m \u001b[32m━━━━━━━━━━━━━━━━━━━━\u001b[0m\u001b[37m\u001b[0m \u001b[1m2s\u001b[0m 1ms/step - accuracy: 0.5274 - loss: 0.6905 - val_accuracy: 0.5197 - val_loss: 0.6924\n",
      "Epoch 17/30\n",
      "\u001b[1m1751/1751\u001b[0m \u001b[32m━━━━━━━━━━━━━━━━━━━━\u001b[0m\u001b[37m\u001b[0m \u001b[1m2s\u001b[0m 1ms/step - accuracy: 0.5220 - loss: 0.6920 - val_accuracy: 0.5187 - val_loss: 0.6922\n",
      "Epoch 18/30\n",
      "\u001b[1m1751/1751\u001b[0m \u001b[32m━━━━━━━━━━━━━━━━━━━━\u001b[0m\u001b[37m\u001b[0m \u001b[1m2s\u001b[0m 1ms/step - accuracy: 0.5311 - loss: 0.6900 - val_accuracy: 0.5195 - val_loss: 0.6921\n",
      "Epoch 19/30\n",
      "\u001b[1m1751/1751\u001b[0m \u001b[32m━━━━━━━━━━━━━━━━━━━━\u001b[0m\u001b[37m\u001b[0m \u001b[1m2s\u001b[0m 1ms/step - accuracy: 0.5244 - loss: 0.6909 - val_accuracy: 0.5213 - val_loss: 0.6922\n",
      "Epoch 20/30\n",
      "\u001b[1m1751/1751\u001b[0m \u001b[32m━━━━━━━━━━━━━━━━━━━━\u001b[0m\u001b[37m\u001b[0m \u001b[1m2s\u001b[0m 1ms/step - accuracy: 0.5338 - loss: 0.6902 - val_accuracy: 0.5204 - val_loss: 0.6921\n",
      "Epoch 21/30\n",
      "\u001b[1m1751/1751\u001b[0m \u001b[32m━━━━━━━━━━━━━━━━━━━━\u001b[0m\u001b[37m\u001b[0m \u001b[1m2s\u001b[0m 1ms/step - accuracy: 0.5284 - loss: 0.6901 - val_accuracy: 0.5233 - val_loss: 0.6921\n",
      "Epoch 22/30\n",
      "\u001b[1m1751/1751\u001b[0m \u001b[32m━━━━━━━━━━━━━━━━━━━━\u001b[0m\u001b[37m\u001b[0m \u001b[1m2s\u001b[0m 1ms/step - accuracy: 0.5316 - loss: 0.6897 - val_accuracy: 0.5226 - val_loss: 0.6922\n",
      "Epoch 23/30\n",
      "\u001b[1m1751/1751\u001b[0m \u001b[32m━━━━━━━━━━━━━━━━━━━━\u001b[0m\u001b[37m\u001b[0m \u001b[1m2s\u001b[0m 1ms/step - accuracy: 0.5291 - loss: 0.6899 - val_accuracy: 0.5213 - val_loss: 0.6922\n",
      "Epoch 24/30\n",
      "\u001b[1m1751/1751\u001b[0m \u001b[32m━━━━━━━━━━━━━━━━━━━━\u001b[0m\u001b[37m\u001b[0m \u001b[1m2s\u001b[0m 1ms/step - accuracy: 0.5285 - loss: 0.6901 - val_accuracy: 0.5183 - val_loss: 0.6922\n",
      "Epoch 25/30\n",
      "\u001b[1m1751/1751\u001b[0m \u001b[32m━━━━━━━━━━━━━━━━━━━━\u001b[0m\u001b[37m\u001b[0m \u001b[1m2s\u001b[0m 1ms/step - accuracy: 0.5319 - loss: 0.6899 - val_accuracy: 0.5196 - val_loss: 0.6922\n",
      "Epoch 26/30\n",
      "\u001b[1m1751/1751\u001b[0m \u001b[32m━━━━━━━━━━━━━━━━━━━━\u001b[0m\u001b[37m\u001b[0m \u001b[1m2s\u001b[0m 1ms/step - accuracy: 0.5343 - loss: 0.6896 - val_accuracy: 0.5203 - val_loss: 0.6922\n",
      "Epoch 27/30\n",
      "\u001b[1m1751/1751\u001b[0m \u001b[32m━━━━━━━━━━━━━━━━━━━━\u001b[0m\u001b[37m\u001b[0m \u001b[1m2s\u001b[0m 1ms/step - accuracy: 0.5333 - loss: 0.6893 - val_accuracy: 0.5204 - val_loss: 0.6924\n",
      "Epoch 28/30\n",
      "\u001b[1m1751/1751\u001b[0m \u001b[32m━━━━━━━━━━━━━━━━━━━━\u001b[0m\u001b[37m\u001b[0m \u001b[1m2s\u001b[0m 1ms/step - accuracy: 0.5355 - loss: 0.6895 - val_accuracy: 0.5176 - val_loss: 0.6924\n",
      "Epoch 29/30\n",
      "\u001b[1m1751/1751\u001b[0m \u001b[32m━━━━━━━━━━━━━━━━━━━━\u001b[0m\u001b[37m\u001b[0m \u001b[1m2s\u001b[0m 1ms/step - accuracy: 0.5385 - loss: 0.6886 - val_accuracy: 0.5202 - val_loss: 0.6922\n",
      "Epoch 30/30\n",
      "\u001b[1m1751/1751\u001b[0m \u001b[32m━━━━━━━━━━━━━━━━━━━━\u001b[0m\u001b[37m\u001b[0m \u001b[1m2s\u001b[0m 1ms/step - accuracy: 0.5384 - loss: 0.6889 - val_accuracy: 0.5218 - val_loss: 0.6924\n"
     ]
    }
   ],
   "source": [
    "history = model.fit(\n",
    "    X_train,\n",
    "    y_train,\n",
    "    epochs=30,  # epochs: Quantas vezes o modelo verá todo o conjunto de dados de treino.\n",
    "    batch_size=32,  # batch_size: Quantas amostras o modelo vê antes de atualizar seus pesos.\n",
    "    validation_data=(X_test, y_test),  # Dados para validar o modelo a cada época.\n",
    "    class_weight=class_weight_dict,  # Pesos das classes para lidar com desbalanceamento\n",
    "    verbose=1 # Mostra uma barra de progresso.\n",
    ")"
   ]
  },
  {
   "cell_type": "markdown",
   "id": "34ce3c99",
   "metadata": {},
   "source": [
    "## PASSO 5: Avaliar o Modelo\n",
    "\n",
    "**Objetivo:** Verificar o quão bem o modelo se saiu nos dados de teste."
   ]
  },
  {
   "cell_type": "code",
   "execution_count": 176,
   "id": "dbb305fb",
   "metadata": {},
   "outputs": [
    {
     "name": "stdout",
     "output_type": "stream",
     "text": [
      "\u001b[1m438/438\u001b[0m \u001b[32m━━━━━━━━━━━━━━━━━━━━\u001b[0m\u001b[37m\u001b[0m \u001b[1m0s\u001b[0m 611us/step\n",
      "[[0.49057823]\n",
      " [0.4965937 ]\n",
      " [0.4858302 ]\n",
      " ...\n",
      " [0.53254986]\n",
      " [0.5234798 ]\n",
      " [0.49805763]]\n",
      "Acurácia no Teste: 52.18%\n",
      "\n",
      "Relatório de Classificação:\n",
      "              precision    recall  f1-score   support\n",
      "\n",
      "    Não Sobe       0.52      0.62      0.57      7017\n",
      "        Sobe       0.53      0.42      0.47      6989\n",
      "\n",
      "    accuracy                           0.52     14006\n",
      "   macro avg       0.52      0.52      0.52     14006\n",
      "weighted avg       0.52      0.52      0.52     14006\n",
      "\n"
     ]
    }
   ],
   "source": [
    "# Fazer previsões nos dados de teste. A saída será uma probabilidade\n",
    "probabilities = model.predict(X_test)\n",
    "\n",
    "# Converter probabilidades em classes (0 ou 1) usando um limiar de 0.5\n",
    "predictions = (probabilities > 0.5).astype(int)\n",
    "\n",
    "print(probabilities)\n",
    "# Calcular e mostrar as métricas\n",
    "accuracy = accuracy_score(y_test, predictions)\n",
    "cm = confusion_matrix(y_test, predictions)\n",
    "report = classification_report(y_test, predictions, target_names=['Não Sobe', 'Sobe'])\n",
    "\n",
    "print(f\"Acurácia no Teste: {accuracy * 100:.2f}%\")\n",
    "print(\"\\nRelatório de Classificação:\")\n",
    "print(report)"
   ]
  },
  {
   "cell_type": "code",
   "execution_count": 177,
   "id": "070d3a81",
   "metadata": {},
   "outputs": [
    {
     "name": "stdout",
     "output_type": "stream",
     "text": [
      "\n",
      "Matriz de Confusão:\n"
     ]
    },
    {
     "data": {
      "image/png": "[encoded data removed]",
      "text/plain": [
       "<Figure size 600x500 with 2 Axes>"
      ]
     },
     "metadata": {},
     "output_type": "display_data"
    }
   ],
   "source": [
    "print(\"\\nMatriz de Confusão:\")\n",
    "# Um mapa de calor para visualizar a matriz de confusão\n",
    "plt.figure(figsize=(6, 5))\n",
    "sns.heatmap(cm, annot=True, fmt='d', cmap='Blues', xticklabels=['Não Sobe', 'Sobe'], yticklabels=['Não Sobe', 'Sobe'])\n",
    "plt.xlabel('Predito')\n",
    "plt.ylabel('Real')\n",
    "plt.title('Matriz de Confusão')\n",
    "plt.show()"
   ]
  },
  {
   "cell_type": "markdown",
   "id": "7f8a3de6",
   "metadata": {},
   "source": [
    "## PASSO 6: Visualizar o Treinamento\n",
    "\n",
    "**Objetivo:** Plotar gráficos para ver se o modelo aprendeu bem ou se teve overfitting."
   ]
  },
  {
   "cell_type": "code",
   "execution_count": 178,
   "id": "9fa525db",
   "metadata": {},
   "outputs": [
    {
     "data": {
      "image/png": "[encoded data removed]",
      "text/plain": [
       "<Figure size 1200x500 with 2 Axes>"
      ]
     },
     "metadata": {},
     "output_type": "display_data"
    }
   ],
   "source": [
    "plt.figure(figsize=(12, 5))\n",
    "\n",
    "# Gráfico da Acurácia\n",
    "plt.subplot(1, 2, 1)\n",
    "plt.plot(history.history['accuracy'], label='Acurácia de Treino')\n",
    "plt.plot(history.history['val_accuracy'], label='Acurácia de Validação')\n",
    "plt.title('Acurácia ao Longo das Épocas')\n",
    "plt.xlabel('Época')\n",
    "plt.ylabel('Acurácia')\n",
    "plt.legend()\n",
    "\n",
    "# Gráfico da Perda (Loss)\n",
    "plt.subplot(1, 2, 2)\n",
    "plt.plot(history.history['loss'], label='Perda de Treino')\n",
    "plt.plot(history.history['val_loss'], label='Perda de Validação')\n",
    "plt.title('Perda ao Longo das Épocas')\n",
    "plt.xlabel('Época')\n",
    "plt.ylabel('Perda')\n",
    "plt.legend()\n",
    "\n",
    "plt.tight_layout()\n",
    "plt.show()"
   ]
  },
  {
   "cell_type": "markdown",
   "id": "d01e0065",
   "metadata": {},
   "source": [
    "## PASSO 7: Salvar o Modelo\n",
    "\n",
    "**Objetivo:** Salvar o modelo treinado e o normalizador para uso futuro."
   ]
  },
  {
   "cell_type": "code",
   "execution_count": 179,
   "id": "fbefc81d",
   "metadata": {},
   "outputs": [
    {
     "data": {
      "text/plain": [
       "'\\nMODEL_PATH = \"mlp_basic_model.h5\"\\nSCALER_PATH = \"basic_scaler.pkl\"\\n\\nmodel.save(MODEL_PATH)\\njoblib.dump(scaler, SCALER_PATH)\\n\\nprint(f\"Modelo salvo em: {MODEL_PATH}\")\\nprint(f\"Normalizador salvo em: {SCALER_PATH}\")\\n'"
      ]
     },
     "execution_count": 179,
     "metadata": {},
     "output_type": "execute_result"
    }
   ],
   "source": [
    "# Por enquanto não é necessário salvar o modelo\n",
    "'''\n",
    "MODEL_PATH = \"mlp_basic_model.h5\"\n",
    "SCALER_PATH = \"basic_scaler.pkl\"\n",
    "\n",
    "model.save(MODEL_PATH)\n",
    "joblib.dump(scaler, SCALER_PATH)\n",
    "\n",
    "print(f\"Modelo salvo em: {MODEL_PATH}\")\n",
    "print(f\"Normalizador salvo em: {SCALER_PATH}\")\n",
    "'''"
   ]
  },
  {
   "cell_type": "markdown",
   "id": "310063f5",
   "metadata": {},
   "source": [
    "## Conclusão\n",
    "\n",
    "### Já integrado:\n",
    "\n",
    "1. **Carrega dados históricos**\n",
    "2. **Prepara os dados**\n",
    "3. **Constrói um MLP**\n",
    "4. **Treina o modelo**\n",
    "5. **Avalia o desempenho**\n",
    "6. **Visualiza o treinamento**\n",
    "7. **Salva o modelo**\n",
    "\n",
    "### Próximos Passos:\n",
    "- ENTENDER POR QUE O MODELO SÓ FALA QUE VAI SUBIR (ERA POR CAUSA DO MINMAXSCALER, POR TER MUITOS OUTLIERS ELE APERTAVA VALORES INTERMEDIARIOS EM UM INTERVALO MUITO PEQUENO... TROQUEI PARA STANDARDSCALER)\n",
    "- Adicionar features técnicas, prepara-las e dar ao treino do modelo\n",
    "- Implementar validação cruzada temporal\n",
    "- Testar diferentes janelas temporais"
   ]
  }
 ],
 "metadata": {
  "kernelspec": {
   "display_name": "Python 3",
   "language": "python",
   "name": "python3"
  },
  "language_info": {
   "codemirror_mode": {
    "name": "ipython",
    "version": 3
   },
   "file_extension": ".py",
   "mimetype": "text/x-python",
   "name": "python",
   "nbconvert_exporter": "python",
   "pygments_lexer": "ipython3",
   "version": "3.12.10"
  }
 },
 "nbformat": 4,
 "nbformat_minor": 5
}
