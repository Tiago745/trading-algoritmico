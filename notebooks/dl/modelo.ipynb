{
 "cells": [
  {
   "cell_type": "markdown",
   "id": "8a546866",
   "metadata": {},
   "source": [
    "# Modelo MLP para Previsão de Preços de Criptomoedas"
   ]
  },
  {
   "cell_type": "markdown",
   "id": "49e45948",
   "metadata": {},
   "source": [
    "## Importação das Bibliotecas"
   ]
  },
  {
   "cell_type": "code",
   "execution_count": 520,
   "id": "03575e8a",
   "metadata": {},
   "outputs": [],
   "source": [
    "import numpy as np\n",
    "import pandas as pd\n",
    "import matplotlib.pyplot as plt\n",
    "import seaborn as sns\n",
    "from sklearn.preprocessing import StandardScaler, RobustScaler, QuantileTransformer\n",
    "from sklearn.metrics import confusion_matrix, classification_report, accuracy_score\n",
    "from sklearn.utils.class_weight import compute_class_weight\n",
    "from tensorflow.keras.callbacks import EarlyStopping, ReduceLROnPlateau\n",
    "from tensorflow.keras.models import Sequential\n",
    "from tensorflow.keras.layers import Dense, Dropout, Input, PReLU\n",
    "from tensorflow.keras.optimizers import Adam, Adamax, AdamW, Lion,RMSprop\n",
    "import joblib"
   ]
  },
  {
   "cell_type": "markdown",
   "id": "bfbfd25f",
   "metadata": {},
   "source": [
    "## PASSO 1: Carregar e Preparar os Dados\n",
    "\n",
    "**Objetivo:** Ler o arquivo CSV e garantir que ele esteja em ordem."
   ]
  },
  {
   "cell_type": "code",
   "execution_count": 521,
   "id": "b1870108",
   "metadata": {},
   "outputs": [
    {
     "name": "stdout",
     "output_type": "stream",
     "text": [
      "Dados carregados: 70080 registros.\n",
      "            timestamp   open   high    low  close     volume\n",
      "0 2023-07-20 15:30:00  26.20  26.21  25.75  25.91  121467.56\n",
      "1 2023-07-20 15:45:00  25.90  25.91  25.57  25.69  191787.08\n",
      "2 2023-07-20 16:00:00  25.69  25.77  25.56  25.66  106474.05\n",
      "3 2023-07-20 16:15:00  25.67  25.67  25.21  25.37  170476.73\n",
      "4 2023-07-20 16:30:00  25.38  25.47  25.33  25.42   75885.50\n"
     ]
    }
   ],
   "source": [
    "# Carrega os dados do arquivo CSV\n",
    "df = pd.read_csv(r\"C:\\Users\\david\\Desktop\\trading-algoritmico\\data\\fechamentos\\SOLUSDT_15m_data.csv\")\n",
    "\n",
    "# Garante que a coluna 'timestamp' seja do tipo data e ordena os dados\n",
    "df['timestamp'] = pd.to_datetime(df['timestamp'])\n",
    "df = df.sort_values('timestamp')\n",
    "df = df.reset_index(drop=True)\n",
    "\n",
    "# Remove colunas com nomes \"Unnamed\".\n",
    "df = df.loc[:, ~df.columns.str.contains('^Unnamed')]\n",
    "\n",
    "print(f\"Dados carregados: {df.shape[0]} registros.\")\n",
    "print(df.head())"
   ]
  },
  {
   "cell_type": "markdown",
   "id": "86a6fb8d",
   "metadata": {},
   "source": [
    "## PASSO 2: Preparar os Dados para o Modelo\n",
    "\n",
    "**Objetivo:** Transformar os dados brutos em um formato que a rede neural entenda (features e target)."
   ]
  },
  {
   "cell_type": "code",
   "execution_count": 522,
   "id": "d5584385",
   "metadata": {},
   "outputs": [],
   "source": [
    "# --- Calculo dos Indicadores ---\n",
    "# Calcula as variações percentuais de 'close' e 'volume'\n",
    "df['close_pct'] = df['close'].pct_change()\n",
    "df['volume_pct'] = df['volume'].pct_change()\n",
    "\n",
    "# Calcula a média móvel simples de 10 e 30 períodos para 'close'\n",
    "df['sma_10'] = df['close'].rolling(window=10).mean()\n",
    "df['sma_30'] = df['close'].rolling(window=30).mean()\n",
    "\n",
    "# Calcula o Índice de Força Relativa (RSI) de 14 períodos\n",
    "def rsi(series, period=14):\n",
    "    gain = (series.where(series > 0, 0)).rolling(window=period).mean()\n",
    "    loss = (-series.where(series < 0, 0)).rolling(window=period).mean()\n",
    "    rs = gain / loss\n",
    "    return 100 - (100 / (1 + rs))\n",
    "df['rsi_7'] = rsi(df['close'], period=7)\n",
    "df['rsi_14'] = rsi(df['close'], period=14)\n",
    "df['rsi_21'] = rsi(df['close'], period=21)\n",
    "\n",
    "# Calcula o MACD\n",
    "def macd(series, short_window=12, long_window=26, signal_window=9):\n",
    "    exp1 = series.ewm(span=short_window, adjust=False).mean()\n",
    "    exp2 = series.ewm(span=long_window, adjust=False).mean()\n",
    "    macd_line = exp1 - exp2\n",
    "    signal_line = macd_line.ewm(span=signal_window, adjust=False).mean()\n",
    "    return macd_line, signal_line\n",
    "df['macd'], df['macd_signal'] = macd(df['close'])\n",
    "\n",
    "# Calcula o Bollinger Bands\n",
    "def bollinger_bands(series, window=20, num_std_dev=2):\n",
    "    rolling_mean = series.rolling(window=window).mean()\n",
    "    rolling_std = series.rolling(window=window).std()\n",
    "    upper_band = rolling_mean + (rolling_std * num_std_dev)\n",
    "    lower_band = rolling_mean - (rolling_std * num_std_dev)\n",
    "    return upper_band, lower_band\n",
    "df['bb_upper'], df['bb_lower'] = bollinger_bands(df['close'])\n",
    "\n",
    "# Calcula o desvio padrão de 10, 20 e 40 períodos\n",
    "df['std_10'] = df['close'].rolling(window=10).std()\n",
    "df['std_20'] = df['close'].rolling(window=20).std()\n",
    "df['std_40'] = df['close'].rolling(window=40).std()\n",
    "\n",
    "# Calcula a média móvel exponencial de 10 e 30 períodos\n",
    "df['ema_10'] = df['close'].ewm(span=10, adjust=False).mean()\n",
    "df['ema_30'] = df['close'].ewm(span=30, adjust=False).mean()\n",
    "\n",
    "# Calcula indicadores lagging\n",
    "df['lag_close_pct_1'] = df['close_pct'].shift(1)  # Preço de fechamento do período anterior\n",
    "df['lag_close_pct_2'] = df['close_pct'].shift(2)  # Preço de fechamento de dois períodos atrás\n",
    "\n",
    "df['lag_rsi_7_1'] = df['rsi_7'].shift(1)  # RSI do período anterior\n",
    "df['lag_rsi_7_2'] = df['rsi_7'].shift(2)  # RSI de dois períodos atrás\n",
    "\n",
    "df['lag_rsi_14_1'] = df['rsi_14'].shift(1)  # RSI de 14 períodos do período anterior\n",
    "df['lag_rsi_14_2'] = df['rsi_14'].shift(2)  # RSI de 14 períodos de dois períodos atrás\n",
    "\n",
    "df['lag_rsi_21_1'] = df['rsi_21'].shift(1)  # RSI de 21 períodos do período anterior\n",
    "df['lag_rsi_21_2'] = df['rsi_21'].shift(2)  # RSI de 21 períodos de dois períodos atrás\n",
    "\n",
    "df['lag_macd_1'] = df['macd'].shift(1)  # MACD do período anterior\n",
    "df['lag_macd_2'] = df['macd'].shift(2)  # MACD de dois períodos atrás\n",
    "\n",
    "df['lag_macd_signal_1'] = df['macd_signal'].shift(1)  # Sinal do MACD do período anterior\n",
    "df['lag_macd_signal_2'] = df['macd_signal'].shift(2)  # Sinal do MACD de dois períodos atrás\n",
    "\n",
    "# Distância do preço atual para a média móvel (mostra se está sobrecomprado/sobrevendido)\n",
    "df['price_vs_sma30'] = df['close'] - df['sma_30']\n",
    "\n",
    "# Cruzamento de médias móveis (um forte indicador de tendência)\n",
    "df['sma_10_vs_sma_30'] = df['sma_10'] - df['sma_30']\n",
    "\n",
    "# Diferença do MACD para a sua linha de sinal\n",
    "df['macd_diff'] = df['macd'] - df['macd_signal']\n",
    "\n",
    "# Volatilidade (desvio padrão dos retornos logarítmicos)\n",
    "df['volatility_10'] = df['close'].pct_change().rolling(window=10).std()\n",
    "df['volatility_20'] = df['close'].pct_change().rolling(window=20).std()\n",
    "df['volatility_40'] = df['close'].pct_change().rolling(window=40).std()\n",
    "\n",
    "# Apaga as linhas com valores NaN\n",
    "df = df.dropna()\n",
    "df = df.reset_index(drop=True)\n"
   ]
  },
  {
   "cell_type": "code",
   "execution_count": 523,
   "id": "d86a29b8",
   "metadata": {},
   "outputs": [
    {
     "name": "stdout",
     "output_type": "stream",
     "text": [
      "Features definidas: ['close_pct', 'volume_pct', 'sma_10', 'sma_30', 'rsi_7', 'rsi_14', 'rsi_21', 'macd', 'macd_signal', 'bb_upper', 'bb_lower', 'std_10', 'std_20', 'std_40', 'ema_10', 'ema_30', 'lag_close_pct_1', 'lag_close_pct_2', 'lag_rsi_7_1', 'lag_rsi_7_2', 'lag_rsi_14_1', 'lag_rsi_14_2', 'lag_rsi_21_1', 'lag_rsi_21_2', 'lag_macd_1', 'lag_macd_2', 'lag_macd_signal_1', 'lag_macd_signal_2', 'price_vs_sma30', 'sma_10_vs_sma_30', 'macd_diff', 'volatility_10', 'volatility_20', 'volatility_40']\n",
      "Sequence length: 16\n",
      "Shape dos dados brutos: (70040, 34)\n"
     ]
    }
   ],
   "source": [
    "# --- Definição das Variáveis ---\n",
    "FEATURE_COLUMNS = ['close_pct', 'volume_pct', 'sma_10', 'sma_30', 'rsi_7', 'rsi_14', 'rsi_21','macd', 'macd_signal', \n",
    "                   'bb_upper', 'bb_lower', 'std_10', 'std_20', 'std_40', 'ema_10', 'ema_30',\n",
    "                   'lag_close_pct_1', 'lag_close_pct_2', 'lag_rsi_7_1', 'lag_rsi_7_2', 'lag_rsi_14_1', 'lag_rsi_14_2', 'lag_rsi_21_1', 'lag_rsi_21_2',\n",
    "                   'lag_macd_1', 'lag_macd_2', 'lag_macd_signal_1', 'lag_macd_signal_2',\n",
    "                   'price_vs_sma30', 'sma_10_vs_sma_30', 'macd_diff', 'volatility_10', 'volatility_20','volatility_40']\n",
    "TARGET_COLUMN = 'close'\n",
    "\n",
    "# SEQUENCE_LENGTH: Quantos períodos olharemos para trás para prever o próximo\n",
    "SEQUENCE_LENGTH = 16\n",
    "\n",
    "# --- Criação das Features (X) e do Alvo (y) ---\n",
    "# O alvo (y) será binário: 1 se o preço subir, 0 se não\n",
    "# df[TARGET_COLUMN].shift(-1) pega o preço de fechamento do *próximo* período\n",
    "y = (df[TARGET_COLUMN].shift(-1) > df[TARGET_COLUMN]).astype(int)\n",
    "\n",
    "# As features (X) serão os dados da FEATURE_COLUMNS\n",
    "X_raw = df[FEATURE_COLUMNS]\n",
    "\n",
    "print(f\"Features definidas: {FEATURE_COLUMNS}\")\n",
    "print(f\"Sequence length: {SEQUENCE_LENGTH}\")\n",
    "print(f\"Shape dos dados brutos: {X_raw.shape}\")"
   ]
  },
  {
   "cell_type": "code",
   "execution_count": 524,
   "id": "15aa9e7c",
   "metadata": {},
   "outputs": [
    {
     "name": "stdout",
     "output_type": "stream",
     "text": [
      "Dados normalizados. Shape: (70040, 34)\n",
      "Min: -5.199337582605575, Max: 5.19933758270342\n"
     ]
    }
   ],
   "source": [
    "# --- Normalização dos Dados ---\n",
    "# Importante para redes neurais, pois ajuda na convergência do modelo\n",
    "scaler = QuantileTransformer(output_distribution='normal', n_quantiles=100)\n",
    "X_scaled = scaler.fit_transform(X_raw)\n",
    "\n",
    "print(f\"Dados normalizados. Shape: {X_scaled.shape}\")\n",
    "print(f\"Min: {X_scaled.min()}, Max: {X_scaled.max()}\")"
   ]
  },
  {
   "cell_type": "code",
   "execution_count": 525,
   "id": "bca6c935",
   "metadata": {},
   "outputs": [
    {
     "name": "stdout",
     "output_type": "stream",
     "text": [
      "Sequências criadas. X shape: (70024, 16, 34), y shape: (70024,)\n"
     ]
    }
   ],
   "source": [
    "# --- Criação das Sequências ---\n",
    "# Cria sequências de dados para o modelo\n",
    "X_sequences, y_sequences = [], []\n",
    "for i in range(len(X_scaled) - SEQUENCE_LENGTH):\n",
    "    X_sequences.append(X_scaled[i : i + SEQUENCE_LENGTH])\n",
    "    y_sequences.append(y[i + SEQUENCE_LENGTH -1]) # O alvo corresponde ao final da sequência\n",
    "\n",
    "X = np.array(X_sequences)\n",
    "y = np.array(y_sequences)\n",
    "\n",
    "print(f\"Sequências criadas. X shape: {X.shape}, y shape: {y.shape}\")"
   ]
  },
  {
   "cell_type": "code",
   "execution_count": 526,
   "id": "8a343bc1",
   "metadata": {},
   "outputs": [
    {
     "name": "stdout",
     "output_type": "stream",
     "text": [
      "Shape de X (features): (70024, 544)\n",
      "Shape de y (alvo): (70024,)\n"
     ]
    }
   ],
   "source": [
    "# --- Reshape do X para o MLP ---\n",
    "# O MLP espera uma entrada 2D, então precisa achatar as sequências\n",
    "num_samples = X.shape[0]\n",
    "num_features_flat = X.shape[1] * X.shape[2]\n",
    "X = X.reshape(num_samples, num_features_flat)\n",
    "\n",
    "print(f\"Shape de X (features): {X.shape}\")\n",
    "print(f\"Shape de y (alvo): {y.shape}\")"
   ]
  },
  {
   "cell_type": "code",
   "execution_count": 527,
   "id": "802dca7d",
   "metadata": {},
   "outputs": [
    {
     "name": "stdout",
     "output_type": "stream",
     "text": [
      "Amostras de treino: 56019\n",
      "Amostras de teste: 14005\n",
      "Distribuição do target no treino: [28309 27710]\n",
      "Distribuição do target no teste: [7016 6989]\n"
     ]
    }
   ],
   "source": [
    "# --- Divisão em Treino e Teste ---\n",
    "# Divisão dos dados em treino e teste\n",
    "split_ratio = 0.8\n",
    "split_index = int(len(X) * split_ratio)\n",
    "\n",
    "X_train, X_test = X[:split_index], X[split_index:]\n",
    "y_train, y_test = y[:split_index], y[split_index:]\n",
    "\n",
    "# Tentativa de balancear as classes, evitando a mesma reposta sempre\n",
    "class_weights = compute_class_weight(\n",
    "    class_weight='balanced',\n",
    "    classes=np.unique(y_train),\n",
    "    y=y_train\n",
    ")\n",
    "\n",
    "class_weight_dict = dict(enumerate(class_weights))\n",
    "\n",
    "print(f\"Amostras de treino: {len(X_train)}\")\n",
    "print(f\"Amostras de teste: {len(X_test)}\")\n",
    "print(f\"Distribuição do target no treino: {np.bincount(y_train)}\")\n",
    "print(f\"Distribuição do target no teste: {np.bincount(y_test)}\")"
   ]
  },
  {
   "cell_type": "markdown",
   "id": "bcce5f9e",
   "metadata": {},
   "source": [
    "## PASSO 3: Construir o Modelo (MLP)\n",
    "\n",
    "**Objetivo:** Definir a arquitetura da nossa rede neural."
   ]
  },
  {
   "cell_type": "code",
   "execution_count": 528,
   "id": "48b78139",
   "metadata": {},
   "outputs": [],
   "source": [
    "model = Sequential()\n",
    "\n",
    "# Camada de Entrada: Define o formato da nossa entrada\n",
    "model.add(Input(shape=(num_features_flat,)))\n",
    "\n",
    "# 1ª Camada Oculta: Primeira camada que aprende os padrões\n",
    "model.add(Dense(units=256))\n",
    "\n",
    "# PReLU é uma ativação que pode aprender a inclinação\n",
    "model.add(PReLU())  \n",
    "\n",
    "# Camada de Dropout: Ajuda a prevenir overfitting\n",
    "model.add(Dropout(rate=0.3))\n",
    "\n",
    "# 2ª Camada Oculta: Segunda camada para aprender padrões mais complexos\n",
    "model.add(Dense(units=128))\n",
    "\n",
    "# PReLU é uma ativação que pode aprender a inclinação\n",
    "model.add(PReLU())\n",
    "\n",
    "# Camada de Dropout: Ajuda a prevenir overfitting\n",
    "model.add(Dropout(rate=0.3))\n",
    "\n",
    "# 3ª Camada Oculta: Terceira camada para aprender padrões mais complexos\n",
    "model.add(Dense(units=64))\n",
    "\n",
    "# PReLU é uma ativação que pode aprender a inclinação\n",
    "model.add(PReLU())\n",
    "\n",
    "# Camada de Dropout: Ajuda a prevenir overfitting\n",
    "model.add(Dropout(rate=0.3))\n",
    "\n",
    "# Camada de Saída: Gera a previsão final\n",
    "model.add(Dense(units=1, activation='sigmoid'))"
   ]
  },
  {
   "cell_type": "code",
   "execution_count": null,
   "id": "c92ecf38",
   "metadata": {},
   "outputs": [
    {
     "data": {
      "text/html": [
       "<pre style=\"white-space:pre;overflow-x:auto;line-height:normal;font-family:Menlo,'DejaVu Sans Mono',consolas,'Courier New',monospace\"><span style=\"font-weight: bold\">Model: \"sequential_37\"</span>\n",
       "</pre>\n"
      ],
      "text/plain": [
       "\u001b[1mModel: \"sequential_37\"\u001b[0m\n"
      ]
     },
     "metadata": {},
     "output_type": "display_data"
    },
    {
     "data": {
      "text/html": [
       "<pre style=\"white-space:pre;overflow-x:auto;line-height:normal;font-family:Menlo,'DejaVu Sans Mono',consolas,'Courier New',monospace\">┏━━━━━━━━━━━━━━━━━━━━━━━━━━━━━━━━━┳━━━━━━━━━━━━━━━━━━━━━━━━┳━━━━━━━━━━━━━━━┓\n",
       "┃<span style=\"font-weight: bold\"> Layer (type)                    </span>┃<span style=\"font-weight: bold\"> Output Shape           </span>┃<span style=\"font-weight: bold\">       Param # </span>┃\n",
       "┡━━━━━━━━━━━━━━━━━━━━━━━━━━━━━━━━━╇━━━━━━━━━━━━━━━━━━━━━━━━╇━━━━━━━━━━━━━━━┩\n",
       "│ dense_118 (<span style=\"color: #0087ff; text-decoration-color: #0087ff\">Dense</span>)               │ (<span style=\"color: #00d7ff; text-decoration-color: #00d7ff\">None</span>, <span style=\"color: #00af00; text-decoration-color: #00af00\">256</span>)            │       <span style=\"color: #00af00; text-decoration-color: #00af00\">139,520</span> │\n",
       "├─────────────────────────────────┼────────────────────────┼───────────────┤\n",
       "│ p_re_lu_63 (<span style=\"color: #0087ff; text-decoration-color: #0087ff\">PReLU</span>)              │ (<span style=\"color: #00d7ff; text-decoration-color: #00d7ff\">None</span>, <span style=\"color: #00af00; text-decoration-color: #00af00\">256</span>)            │           <span style=\"color: #00af00; text-decoration-color: #00af00\">256</span> │\n",
       "├─────────────────────────────────┼────────────────────────┼───────────────┤\n",
       "│ dropout_71 (<span style=\"color: #0087ff; text-decoration-color: #0087ff\">Dropout</span>)            │ (<span style=\"color: #00d7ff; text-decoration-color: #00d7ff\">None</span>, <span style=\"color: #00af00; text-decoration-color: #00af00\">256</span>)            │             <span style=\"color: #00af00; text-decoration-color: #00af00\">0</span> │\n",
       "├─────────────────────────────────┼────────────────────────┼───────────────┤\n",
       "│ dense_119 (<span style=\"color: #0087ff; text-decoration-color: #0087ff\">Dense</span>)               │ (<span style=\"color: #00d7ff; text-decoration-color: #00d7ff\">None</span>, <span style=\"color: #00af00; text-decoration-color: #00af00\">128</span>)            │        <span style=\"color: #00af00; text-decoration-color: #00af00\">32,896</span> │\n",
       "├─────────────────────────────────┼────────────────────────┼───────────────┤\n",
       "│ p_re_lu_64 (<span style=\"color: #0087ff; text-decoration-color: #0087ff\">PReLU</span>)              │ (<span style=\"color: #00d7ff; text-decoration-color: #00d7ff\">None</span>, <span style=\"color: #00af00; text-decoration-color: #00af00\">128</span>)            │           <span style=\"color: #00af00; text-decoration-color: #00af00\">128</span> │\n",
       "├─────────────────────────────────┼────────────────────────┼───────────────┤\n",
       "│ dropout_72 (<span style=\"color: #0087ff; text-decoration-color: #0087ff\">Dropout</span>)            │ (<span style=\"color: #00d7ff; text-decoration-color: #00d7ff\">None</span>, <span style=\"color: #00af00; text-decoration-color: #00af00\">128</span>)            │             <span style=\"color: #00af00; text-decoration-color: #00af00\">0</span> │\n",
       "├─────────────────────────────────┼────────────────────────┼───────────────┤\n",
       "│ dense_120 (<span style=\"color: #0087ff; text-decoration-color: #0087ff\">Dense</span>)               │ (<span style=\"color: #00d7ff; text-decoration-color: #00d7ff\">None</span>, <span style=\"color: #00af00; text-decoration-color: #00af00\">64</span>)             │         <span style=\"color: #00af00; text-decoration-color: #00af00\">8,256</span> │\n",
       "├─────────────────────────────────┼────────────────────────┼───────────────┤\n",
       "│ p_re_lu_65 (<span style=\"color: #0087ff; text-decoration-color: #0087ff\">PReLU</span>)              │ (<span style=\"color: #00d7ff; text-decoration-color: #00d7ff\">None</span>, <span style=\"color: #00af00; text-decoration-color: #00af00\">64</span>)             │            <span style=\"color: #00af00; text-decoration-color: #00af00\">64</span> │\n",
       "├─────────────────────────────────┼────────────────────────┼───────────────┤\n",
       "│ dropout_73 (<span style=\"color: #0087ff; text-decoration-color: #0087ff\">Dropout</span>)            │ (<span style=\"color: #00d7ff; text-decoration-color: #00d7ff\">None</span>, <span style=\"color: #00af00; text-decoration-color: #00af00\">64</span>)             │             <span style=\"color: #00af00; text-decoration-color: #00af00\">0</span> │\n",
       "├─────────────────────────────────┼────────────────────────┼───────────────┤\n",
       "│ dense_121 (<span style=\"color: #0087ff; text-decoration-color: #0087ff\">Dense</span>)               │ (<span style=\"color: #00d7ff; text-decoration-color: #00d7ff\">None</span>, <span style=\"color: #00af00; text-decoration-color: #00af00\">1</span>)              │            <span style=\"color: #00af00; text-decoration-color: #00af00\">65</span> │\n",
       "└─────────────────────────────────┴────────────────────────┴───────────────┘\n",
       "</pre>\n"
      ],
      "text/plain": [
       "┏━━━━━━━━━━━━━━━━━━━━━━━━━━━━━━━━━┳━━━━━━━━━━━━━━━━━━━━━━━━┳━━━━━━━━━━━━━━━┓\n",
       "┃\u001b[1m \u001b[0m\u001b[1mLayer (type)                   \u001b[0m\u001b[1m \u001b[0m┃\u001b[1m \u001b[0m\u001b[1mOutput Shape          \u001b[0m\u001b[1m \u001b[0m┃\u001b[1m \u001b[0m\u001b[1m      Param #\u001b[0m\u001b[1m \u001b[0m┃\n",
       "┡━━━━━━━━━━━━━━━━━━━━━━━━━━━━━━━━━╇━━━━━━━━━━━━━━━━━━━━━━━━╇━━━━━━━━━━━━━━━┩\n",
       "│ dense_118 (\u001b[38;5;33mDense\u001b[0m)               │ (\u001b[38;5;45mNone\u001b[0m, \u001b[38;5;34m256\u001b[0m)            │       \u001b[38;5;34m139,520\u001b[0m │\n",
       "├─────────────────────────────────┼────────────────────────┼───────────────┤\n",
       "│ p_re_lu_63 (\u001b[38;5;33mPReLU\u001b[0m)              │ (\u001b[38;5;45mNone\u001b[0m, \u001b[38;5;34m256\u001b[0m)            │           \u001b[38;5;34m256\u001b[0m │\n",
       "├─────────────────────────────────┼────────────────────────┼───────────────┤\n",
       "│ dropout_71 (\u001b[38;5;33mDropout\u001b[0m)            │ (\u001b[38;5;45mNone\u001b[0m, \u001b[38;5;34m256\u001b[0m)            │             \u001b[38;5;34m0\u001b[0m │\n",
       "├─────────────────────────────────┼────────────────────────┼───────────────┤\n",
       "│ dense_119 (\u001b[38;5;33mDense\u001b[0m)               │ (\u001b[38;5;45mNone\u001b[0m, \u001b[38;5;34m128\u001b[0m)            │        \u001b[38;5;34m32,896\u001b[0m │\n",
       "├─────────────────────────────────┼────────────────────────┼───────────────┤\n",
       "│ p_re_lu_64 (\u001b[38;5;33mPReLU\u001b[0m)              │ (\u001b[38;5;45mNone\u001b[0m, \u001b[38;5;34m128\u001b[0m)            │           \u001b[38;5;34m128\u001b[0m │\n",
       "├─────────────────────────────────┼────────────────────────┼───────────────┤\n",
       "│ dropout_72 (\u001b[38;5;33mDropout\u001b[0m)            │ (\u001b[38;5;45mNone\u001b[0m, \u001b[38;5;34m128\u001b[0m)            │             \u001b[38;5;34m0\u001b[0m │\n",
       "├─────────────────────────────────┼────────────────────────┼───────────────┤\n",
       "│ dense_120 (\u001b[38;5;33mDense\u001b[0m)               │ (\u001b[38;5;45mNone\u001b[0m, \u001b[38;5;34m64\u001b[0m)             │         \u001b[38;5;34m8,256\u001b[0m │\n",
       "├─────────────────────────────────┼────────────────────────┼───────────────┤\n",
       "│ p_re_lu_65 (\u001b[38;5;33mPReLU\u001b[0m)              │ (\u001b[38;5;45mNone\u001b[0m, \u001b[38;5;34m64\u001b[0m)             │            \u001b[38;5;34m64\u001b[0m │\n",
       "├─────────────────────────────────┼────────────────────────┼───────────────┤\n",
       "│ dropout_73 (\u001b[38;5;33mDropout\u001b[0m)            │ (\u001b[38;5;45mNone\u001b[0m, \u001b[38;5;34m64\u001b[0m)             │             \u001b[38;5;34m0\u001b[0m │\n",
       "├─────────────────────────────────┼────────────────────────┼───────────────┤\n",
       "│ dense_121 (\u001b[38;5;33mDense\u001b[0m)               │ (\u001b[38;5;45mNone\u001b[0m, \u001b[38;5;34m1\u001b[0m)              │            \u001b[38;5;34m65\u001b[0m │\n",
       "└─────────────────────────────────┴────────────────────────┴───────────────┘\n"
      ]
     },
     "metadata": {},
     "output_type": "display_data"
    },
    {
     "data": {
      "text/html": [
       "<pre style=\"white-space:pre;overflow-x:auto;line-height:normal;font-family:Menlo,'DejaVu Sans Mono',consolas,'Courier New',monospace\"><span style=\"font-weight: bold\"> Total params: </span><span style=\"color: #00af00; text-decoration-color: #00af00\">181,185</span> (707.75 KB)\n",
       "</pre>\n"
      ],
      "text/plain": [
       "\u001b[1m Total params: \u001b[0m\u001b[38;5;34m181,185\u001b[0m (707.75 KB)\n"
      ]
     },
     "metadata": {},
     "output_type": "display_data"
    },
    {
     "data": {
      "text/html": [
       "<pre style=\"white-space:pre;overflow-x:auto;line-height:normal;font-family:Menlo,'DejaVu Sans Mono',consolas,'Courier New',monospace\"><span style=\"font-weight: bold\"> Trainable params: </span><span style=\"color: #00af00; text-decoration-color: #00af00\">181,185</span> (707.75 KB)\n",
       "</pre>\n"
      ],
      "text/plain": [
       "\u001b[1m Trainable params: \u001b[0m\u001b[38;5;34m181,185\u001b[0m (707.75 KB)\n"
      ]
     },
     "metadata": {},
     "output_type": "display_data"
    },
    {
     "data": {
      "text/html": [
       "<pre style=\"white-space:pre;overflow-x:auto;line-height:normal;font-family:Menlo,'DejaVu Sans Mono',consolas,'Courier New',monospace\"><span style=\"font-weight: bold\"> Non-trainable params: </span><span style=\"color: #00af00; text-decoration-color: #00af00\">0</span> (0.00 B)\n",
       "</pre>\n"
      ],
      "text/plain": [
       "\u001b[1m Non-trainable params: \u001b[0m\u001b[38;5;34m0\u001b[0m (0.00 B)\n"
      ]
     },
     "metadata": {},
     "output_type": "display_data"
    }
   ],
   "source": [
    "# --- Compilação do Modelo ---\n",
    "# O modelo é compilado com o otimizador Adam e a função de perda binary_crossentropy, adequada para problemas de classificação binária\n",
    "model.compile(optimizer=Adam(learning_rate=0.01), loss='binary_crossentropy', metrics=['accuracy'])\n",
    "\n",
    "# Mostra um resumo da arquitetura do modelo\n",
    "model.summary()"
   ]
  },
  {
   "cell_type": "markdown",
   "id": "b8796608",
   "metadata": {},
   "source": [
    "## PASSO 4: Treinar o Modelo\n",
    "\n",
    "**Objetivo:** Alimentar o modelo com os dados de treino para que ele aprenda."
   ]
  },
  {
   "cell_type": "code",
   "execution_count": 530,
   "id": "88a2d9aa",
   "metadata": {},
   "outputs": [
    {
     "name": "stdout",
     "output_type": "stream",
     "text": [
      "Epoch 1/200\n",
      "\u001b[1m876/876\u001b[0m \u001b[32m━━━━━━━━━━━━━━━━━━━━\u001b[0m\u001b[37m\u001b[0m \u001b[1m4s\u001b[0m 3ms/step - accuracy: 0.5012 - loss: 8.8922 - val_accuracy: 0.5016 - val_loss: 0.6933 - learning_rate: 0.0500\n",
      "Epoch 2/200\n",
      "\u001b[1m876/876\u001b[0m \u001b[32m━━━━━━━━━━━━━━━━━━━━\u001b[0m\u001b[37m\u001b[0m \u001b[1m2s\u001b[0m 3ms/step - accuracy: 0.5056 - loss: 2074.1472 - val_accuracy: 0.5010 - val_loss: 20.4770 - learning_rate: 0.0500\n",
      "Epoch 3/200\n",
      "\u001b[1m876/876\u001b[0m \u001b[32m━━━━━━━━━━━━━━━━━━━━\u001b[0m\u001b[37m\u001b[0m \u001b[1m2s\u001b[0m 3ms/step - accuracy: 0.4976 - loss: 49.6548 - val_accuracy: 0.5007 - val_loss: 14.6864 - learning_rate: 0.0500\n",
      "Epoch 4/200\n",
      "\u001b[1m876/876\u001b[0m \u001b[32m━━━━━━━━━━━━━━━━━━━━\u001b[0m\u001b[37m\u001b[0m \u001b[1m2s\u001b[0m 3ms/step - accuracy: 0.4988 - loss: 13.5638 - val_accuracy: 0.4990 - val_loss: 1.1911 - learning_rate: 0.0500\n",
      "Epoch 5/200\n",
      "\u001b[1m876/876\u001b[0m \u001b[32m━━━━━━━━━━━━━━━━━━━━\u001b[0m\u001b[37m\u001b[0m \u001b[1m2s\u001b[0m 3ms/step - accuracy: 0.4993 - loss: 7.0056 - val_accuracy: 0.4990 - val_loss: 3.9241 - learning_rate: 0.0500\n",
      "Epoch 6/200\n",
      "\u001b[1m876/876\u001b[0m \u001b[32m━━━━━━━━━━━━━━━━━━━━\u001b[0m\u001b[37m\u001b[0m \u001b[1m2s\u001b[0m 3ms/step - accuracy: 0.4982 - loss: 3.1280 - val_accuracy: 0.5010 - val_loss: 0.7591 - learning_rate: 0.0500\n",
      "Epoch 7/200\n",
      "\u001b[1m876/876\u001b[0m \u001b[32m━━━━━━━━━━━━━━━━━━━━\u001b[0m\u001b[37m\u001b[0m \u001b[1m2s\u001b[0m 3ms/step - accuracy: 0.5038 - loss: 1.7108 - val_accuracy: 0.4995 - val_loss: 0.7364 - learning_rate: 0.0500\n",
      "Epoch 8/200\n",
      "\u001b[1m876/876\u001b[0m \u001b[32m━━━━━━━━━━━━━━━━━━━━\u001b[0m\u001b[37m\u001b[0m \u001b[1m2s\u001b[0m 3ms/step - accuracy: 0.5006 - loss: 1.0579 - val_accuracy: 0.5043 - val_loss: 0.6945 - learning_rate: 0.0500\n",
      "Epoch 9/200\n",
      "\u001b[1m876/876\u001b[0m \u001b[32m━━━━━━━━━━━━━━━━━━━━\u001b[0m\u001b[37m\u001b[0m \u001b[1m2s\u001b[0m 3ms/step - accuracy: 0.5025 - loss: 1.4497 - val_accuracy: 0.5010 - val_loss: 0.7919 - learning_rate: 0.0500\n",
      "Epoch 10/200\n",
      "\u001b[1m876/876\u001b[0m \u001b[32m━━━━━━━━━━━━━━━━━━━━\u001b[0m\u001b[37m\u001b[0m \u001b[1m2s\u001b[0m 3ms/step - accuracy: 0.5012 - loss: 1.4685 - val_accuracy: 0.5010 - val_loss: 1.1377 - learning_rate: 0.0500\n",
      "Epoch 11/200\n",
      "\u001b[1m876/876\u001b[0m \u001b[32m━━━━━━━━━━━━━━━━━━━━\u001b[0m\u001b[37m\u001b[0m \u001b[1m2s\u001b[0m 3ms/step - accuracy: 0.5026 - loss: 1.5753 - val_accuracy: 0.4990 - val_loss: 3.8723 - learning_rate: 0.0500\n",
      "Epoch 12/200\n",
      "\u001b[1m876/876\u001b[0m \u001b[32m━━━━━━━━━━━━━━━━━━━━\u001b[0m\u001b[37m\u001b[0m \u001b[1m2s\u001b[0m 3ms/step - accuracy: 0.4988 - loss: 1.4946 - val_accuracy: 0.5010 - val_loss: 0.6980 - learning_rate: 0.0250\n",
      "Epoch 13/200\n",
      "\u001b[1m876/876\u001b[0m \u001b[32m━━━━━━━━━━━━━━━━━━━━\u001b[0m\u001b[37m\u001b[0m \u001b[1m2s\u001b[0m 3ms/step - accuracy: 0.5027 - loss: 0.7343 - val_accuracy: 0.5010 - val_loss: 0.7192 - learning_rate: 0.0250\n",
      "Epoch 14/200\n",
      "\u001b[1m876/876\u001b[0m \u001b[32m━━━━━━━━━━━━━━━━━━━━\u001b[0m\u001b[37m\u001b[0m \u001b[1m2s\u001b[0m 3ms/step - accuracy: 0.5074 - loss: 68.0598 - val_accuracy: 0.4990 - val_loss: 0.8658 - learning_rate: 0.0250\n",
      "Epoch 15/200\n",
      "\u001b[1m876/876\u001b[0m \u001b[32m━━━━━━━━━━━━━━━━━━━━\u001b[0m\u001b[37m\u001b[0m \u001b[1m2s\u001b[0m 3ms/step - accuracy: 0.5068 - loss: 0.8443 - val_accuracy: 0.5010 - val_loss: 0.6969 - learning_rate: 0.0250\n",
      "Epoch 16/200\n",
      "\u001b[1m876/876\u001b[0m \u001b[32m━━━━━━━━━━━━━━━━━━━━\u001b[0m\u001b[37m\u001b[0m \u001b[1m2s\u001b[0m 3ms/step - accuracy: 0.4986 - loss: 0.7232 - val_accuracy: 0.5010 - val_loss: 0.7139 - learning_rate: 0.0250\n"
     ]
    }
   ],
   "source": [
    "# Callbacks para otimizar o treinamento \n",
    "callbacks = [ \n",
    "    EarlyStopping(monitor='val_loss', patience=15, restore_best_weights=True), \n",
    "    ReduceLROnPlateau(monitor='val_loss', factor=0.5, patience=10, min_lr=0.0001)]\n",
    "\n",
    "history = model.fit(\n",
    "    X_train,\n",
    "    y_train,\n",
    "    epochs=200,  # epochs: Quantas vezes o modelo verá todo o conjunto de dados de treino.\n",
    "    batch_size=64,  # batch_size: Quantas amostras o modelo vê antes de atualizar seus pesos.\n",
    "    validation_data=(X_test, y_test),  # Dados para validar o modelo a cada época.\n",
    "    class_weight=class_weight_dict,  # Pesos das classes para lidar com desbalanceamento\n",
    "    callbacks=callbacks,  # Callbacks para otimização do treinamento\n",
    "    verbose=1 # Mostra uma barra de progresso.\n",
    ")"
   ]
  },
  {
   "cell_type": "markdown",
   "id": "34ce3c99",
   "metadata": {},
   "source": [
    "## PASSO 5: Avaliar o Modelo\n",
    "\n",
    "**Objetivo:** Verificar o quão bem o modelo se saiu nos dados de teste."
   ]
  },
  {
   "cell_type": "code",
   "execution_count": 531,
   "id": "dbb305fb",
   "metadata": {},
   "outputs": [
    {
     "name": "stdout",
     "output_type": "stream",
     "text": [
      "\u001b[1m438/438\u001b[0m \u001b[32m━━━━━━━━━━━━━━━━━━━━\u001b[0m\u001b[37m\u001b[0m \u001b[1m0s\u001b[0m 877us/step\n",
      "[[0.48764816]\n",
      " [0.4875958 ]\n",
      " [0.48750854]\n",
      " ...\n",
      " [0.48737007]\n",
      " [0.48820195]\n",
      " [0.48853618]]\n",
      "Acurácia no Teste: 50.16%\n",
      "\n",
      "Relatório de Classificação:\n",
      "              precision    recall  f1-score   support\n",
      "\n",
      "    Não Sobe       0.50      0.99      0.67      7016\n",
      "        Sobe       0.55      0.01      0.01      6989\n",
      "\n",
      "    accuracy                           0.50     14005\n",
      "   macro avg       0.53      0.50      0.34     14005\n",
      "weighted avg       0.53      0.50      0.34     14005\n",
      "\n"
     ]
    }
   ],
   "source": [
    "# Fazer previsões nos dados de teste. A saída será uma probabilidade\n",
    "probabilities = model.predict(X_test)\n",
    "\n",
    "# Converter probabilidades em classes (0 ou 1) usando um limiar de 0.5\n",
    "predictions = (probabilities > 0.5).astype(int)\n",
    "\n",
    "print(probabilities)\n",
    "# Calcular e mostrar as métricas\n",
    "accuracy = accuracy_score(y_test, predictions)\n",
    "cm = confusion_matrix(y_test, predictions)\n",
    "report = classification_report(y_test, predictions, target_names=['Não Sobe', 'Sobe'])\n",
    "\n",
    "print(f\"Acurácia no Teste: {accuracy * 100:.2f}%\")\n",
    "print(\"\\nRelatório de Classificação:\")\n",
    "print(report)"
   ]
  },
  {
   "cell_type": "code",
   "execution_count": 532,
   "id": "070d3a81",
   "metadata": {},
   "outputs": [
    {
     "name": "stdout",
     "output_type": "stream",
     "text": [
      "\n",
      "Matriz de Confusão:\n"
     ]
    },
    {
     "data": {
      "image/png": "[encoded data removed]",
      "text/plain": [
       "<Figure size 600x500 with 2 Axes>"
      ]
     },
     "metadata": {},
     "output_type": "display_data"
    }
   ],
   "source": [
    "print(\"\\nMatriz de Confusão:\")\n",
    "# Um mapa de calor para visualizar a matriz de confusão\n",
    "plt.figure(figsize=(6, 5))\n",
    "sns.heatmap(cm, annot=True, fmt='d', cmap='Blues', xticklabels=['Não Sobe', 'Sobe'], yticklabels=['Não Sobe', 'Sobe'])\n",
    "plt.xlabel('Predito')\n",
    "plt.ylabel('Real')\n",
    "plt.title('Matriz de Confusão')\n",
    "plt.show()"
   ]
  },
  {
   "cell_type": "markdown",
   "id": "7f8a3de6",
   "metadata": {},
   "source": [
    "## PASSO 6: Visualizar o Treinamento\n",
    "\n",
    "**Objetivo:** Plotar gráficos para ver se o modelo aprendeu bem ou se teve overfitting."
   ]
  },
  {
   "cell_type": "code",
   "execution_count": 533,
   "id": "9fa525db",
   "metadata": {},
   "outputs": [
    {
     "data": {
      "image/png": "[encoded data removed]",
      "text/plain": [
       "<Figure size 1200x500 with 2 Axes>"
      ]
     },
     "metadata": {},
     "output_type": "display_data"
    }
   ],
   "source": [
    "plt.figure(figsize=(12, 5))\n",
    "\n",
    "# Gráfico da Acurácia\n",
    "plt.subplot(1, 2, 1)\n",
    "plt.plot(history.history['accuracy'], label='Acurácia de Treino')\n",
    "plt.plot(history.history['val_accuracy'], label='Acurácia de Validação')\n",
    "plt.title('Acurácia ao Longo das Épocas')\n",
    "plt.xlabel('Época')\n",
    "plt.ylabel('Acurácia')\n",
    "plt.legend()\n",
    "\n",
    "# Gráfico da Perda (Loss)\n",
    "plt.subplot(1, 2, 2)\n",
    "plt.plot(history.history['loss'], label='Perda de Treino')\n",
    "plt.plot(history.history['val_loss'], label='Perda de Validação')\n",
    "plt.title('Perda ao Longo das Épocas')\n",
    "plt.xlabel('Época')\n",
    "plt.ylabel('Perda')\n",
    "plt.legend()\n",
    "\n",
    "plt.tight_layout()\n",
    "plt.show()"
   ]
  },
  {
   "cell_type": "markdown",
   "id": "d01e0065",
   "metadata": {},
   "source": [
    "## PASSO 7: Salvar o Modelo\n",
    "\n",
    "**Objetivo:** Salvar o modelo treinado e o normalizador para uso futuro."
   ]
  },
  {
   "cell_type": "code",
   "execution_count": 534,
   "id": "fbefc81d",
   "metadata": {},
   "outputs": [
    {
     "data": {
      "text/plain": [
       "'\\nMODEL_PATH = \"mlp_basic_model.h5\"\\nSCALER_PATH = \"basic_scaler.pkl\"\\n\\nmodel.save(MODEL_PATH)\\njoblib.dump(scaler, SCALER_PATH)\\n\\nprint(f\"Modelo salvo em: {MODEL_PATH}\")\\nprint(f\"Normalizador salvo em: {SCALER_PATH}\")\\n'"
      ]
     },
     "execution_count": 534,
     "metadata": {},
     "output_type": "execute_result"
    }
   ],
   "source": [
    "# Por enquanto não é necessário salvar o modelo\n",
    "'''\n",
    "MODEL_PATH = \"mlp_basic_model.h5\"\n",
    "SCALER_PATH = \"basic_scaler.pkl\"\n",
    "\n",
    "model.save(MODEL_PATH)\n",
    "joblib.dump(scaler, SCALER_PATH)\n",
    "\n",
    "print(f\"Modelo salvo em: {MODEL_PATH}\")\n",
    "print(f\"Normalizador salvo em: {SCALER_PATH}\")\n",
    "'''"
   ]
  },
  {
   "cell_type": "markdown",
   "id": "310063f5",
   "metadata": {},
   "source": [
    "## Conclusão\n",
    "\n",
    "### Já integrado:\n",
    "\n",
    "1. **Carrega dados históricos**\n",
    "2. **Prepara os dados**\n",
    "3. **Constrói um MLP**\n",
    "4. **Treina o modelo**\n",
    "5. **Avalia o desempenho**\n",
    "6. **Visualiza o treinamento**\n",
    "7. **Salva o modelo**\n",
    "\n",
    "### Próximos Passos:\n",
    "- ENTENDER POR QUE O MODELO SÓ FALA QUE VAI SUBIR (ERA POR CAUSA DO MINMAXSCALER, POR TER MUITOS OUTLIERS ELE APERTAVA VALORES INTERMEDIARIOS EM UM INTERVALO MUITO PEQUENO... TROQUEI PARA STANDARDSCALER)\n",
    "- Adicionar features técnicas, prepara-las e dar ao treino do modelo\n",
    "- Implementar validação cruzada temporal\n",
    "- Testar diferentes janelas temporais"
   ]
  },
  {
   "cell_type": "markdown",
   "id": "30336634",
   "metadata": {},
   "source": [
    "# Testes com outros modelos\n",
    "\n",
    "**Meio freestyle considerando que os dados são reciclados e não adaptados**"
   ]
  },
  {
   "cell_type": "code",
   "execution_count": 539,
   "id": "3c101194",
   "metadata": {},
   "outputs": [
    {
     "name": "stdout",
     "output_type": "stream",
     "text": [
      "--- Executando Testes alternativos com HistGradientBoosting ---\n",
      "\n",
      "Relatório de Classificação do HistGradientBoosting:\n",
      "              precision    recall  f1-score   support\n",
      "\n",
      "    Não Sobe       0.52      0.51      0.51      7016\n",
      "        Sobe       0.51      0.51      0.51      6989\n",
      "\n",
      "    accuracy                           0.51     14005\n",
      "   macro avg       0.51      0.51      0.51     14005\n",
      "weighted avg       0.51      0.51      0.51     14005\n",
      "\n"
     ]
    }
   ],
   "source": [
    "from sklearn.ensemble import HistGradientBoostingClassifier\n",
    "from sklearn.metrics import classification_report\n",
    "\n",
    "print(\"--- Executando Testes alternativos com HistGradientBoosting ---\")\n",
    "\n",
    "# Crie e treine o modelo\n",
    "rf_model = HistGradientBoostingClassifier(max_iter=100, random_state=42)\n",
    "rf_model.fit(X_train, y_train)\n",
    "\n",
    "# Faça previsões\n",
    "rf_predictions = rf_model.predict(X_test)\n",
    "# Avalie o resultado\n",
    "print(\"\\nRelatório de Classificação do HistGradientBoosting:\")\n",
    "print(classification_report(y_test, rf_predictions, target_names=['Não Sobe', 'Sobe']))"
   ]
  },
  {
   "cell_type": "code",
   "execution_count": null,
   "id": "bad3a82d",
   "metadata": {},
   "outputs": [
    {
     "name": "stdout",
     "output_type": "stream",
     "text": [
      "--- Executando Testes alternativos com RandomForest ---\n",
      "\n",
      "Relatório de Classificação do RandomForest:\n",
      "              precision    recall  f1-score   support\n",
      "\n",
      "    Não Sobe       0.51      0.53      0.52      7016\n",
      "        Sobe       0.51      0.48      0.49      6989\n",
      "\n",
      "    accuracy                           0.51     14005\n",
      "   macro avg       0.51      0.51      0.51     14005\n",
      "weighted avg       0.51      0.51      0.51     14005\n",
      "\n"
     ]
    }
   ],
   "source": [
    "from sklearn.ensemble import RandomForestClassifier\n",
    "from sklearn.metrics import classification_report\n",
    "\n",
    "print(\"--- Executando Testes alternativos com RandomForest ---\")\n",
    "\n",
    "# Crie e treine o modelo\n",
    "rf_model = RandomForestClassifier(n_estimators=100, random_state=42, n_jobs=-1, class_weight='balanced')\n",
    "rf_model.fit(X_train, y_train)\n",
    "\n",
    "# Faça previsões\n",
    "rf_predictions = rf_model.predict(X_test)\n",
    "# Avalie o resultado\n",
    "print(\"\\nRelatório de Classificação do RandomForest:\")\n",
    "print(classification_report(y_test, rf_predictions, target_names=['Não Sobe', 'Sobe']))"
   ]
  },
  {
   "cell_type": "code",
   "execution_count": null,
   "id": "16d3467a",
   "metadata": {},
   "outputs": [
    {
     "name": "stdout",
     "output_type": "stream",
     "text": [
      "--- Executando Testes alternativos com GradientBoosting ---\n",
      "\n",
      "Relatório de Classificação do GradientBoosting:\n",
      "              precision    recall  f1-score   support\n",
      "\n",
      "    Não Sobe       0.52      0.52      0.52      7016\n",
      "        Sobe       0.52      0.51      0.51      6989\n",
      "\n",
      "    accuracy                           0.52     14005\n",
      "   macro avg       0.52      0.52      0.52     14005\n",
      "weighted avg       0.52      0.52      0.52     14005\n",
      "\n"
     ]
    }
   ],
   "source": [
    "from sklearn.ensemble import GradientBoostingClassifier\n",
    "from sklearn.metrics import classification_report\n",
    "\n",
    "print(\"--- Executando Testes alternativos com GradientBoosting ---\")\n",
    "\n",
    "# Crie e treine o modelo\n",
    "rf_model = GradientBoostingClassifier(\n",
    "    n_estimators=200,         # Mais árvores pode melhorar, mas aumenta o tempo de treino\n",
    "    learning_rate=0.05,       # Menor learning_rate pode melhorar generalização, mas exige mais árvores\n",
    "    max_depth=4,              # Profundidade das árvores (3-5 é comum)\n",
    "    subsample=0.8,            # Amostragem estocástica para robustez (0.8 é um bom começo)\n",
    "    max_features='sqrt',      # Considera sqrt(n_features) em cada split (ajuda a evitar overfitting)\n",
    "    random_state=42\n",
    ")\n",
    "rf_model.fit(X_train, y_train)\n",
    "\n",
    "# Faça previsões\n",
    "rf_predictions = rf_model.predict(X_test)\n",
    "# Avalie o resultado\n",
    "print(\"\\nRelatório de Classificação do GradientBoosting:\")\n",
    "print(classification_report(y_test, rf_predictions, target_names=['Não Sobe', 'Sobe']))"
   ]
  },
  {
   "cell_type": "code",
   "execution_count": 538,
   "id": "49754d24",
   "metadata": {},
   "outputs": [
    {
     "name": "stdout",
     "output_type": "stream",
     "text": [
      "--- Executando Testes alternativos com GradientBoosting ---\n",
      "\n",
      "Relatório de Classificação do StackingClassifier:\n",
      "              precision    recall  f1-score   support\n",
      "\n",
      "    Não Sobe       0.50      0.51      0.50      7016\n",
      "        Sobe       0.50      0.49      0.49      6989\n",
      "\n",
      "    accuracy                           0.50     14005\n",
      "   macro avg       0.50      0.50      0.50     14005\n",
      "weighted avg       0.50      0.50      0.50     14005\n",
      "\n"
     ]
    }
   ],
   "source": [
    "from sklearn.ensemble import StackingClassifier\n",
    "from sklearn.metrics import classification_report\n",
    "from sklearn.ensemble import RandomForestClassifier, GradientBoostingClassifier\n",
    "\n",
    "print(\"--- Executando Testes alternativos com StackingClassifier ---\")\n",
    "\n",
    "# Crie e treine o modelo\n",
    "estimators = [\n",
    "    ('rf', RandomForestClassifier(n_estimators=100, random_state=42, n_jobs=-1, class_weight='balanced')),\n",
    "    ('gb', GradientBoostingClassifier(\n",
    "        n_estimators=100,\n",
    "        learning_rate=0.05,\n",
    "        max_depth=4,\n",
    "        subsample=0.8,\n",
    "        max_features='sqrt',\n",
    "        random_state=42\n",
    "    ))\n",
    "]\n",
    "\n",
    "rf_model = StackingClassifier(\n",
    "    estimators=estimators,\n",
    "    final_estimator=RandomForestClassifier(n_estimators=50, random_state=42, n_jobs=-1, class_weight='balanced'),\n",
    "    n_jobs=-1,\n",
    "    passthrough=False\n",
    ")\n",
    "rf_model.fit(X_train, y_train)\n",
    "\n",
    "# Faça previsões\n",
    "rf_predictions = rf_model.predict(X_test)\n",
    "# Avalie o resultado\n",
    "print(\"\\nRelatório de Classificação do StackingClassifier:\")\n",
    "print(classification_report(y_test, rf_predictions, target_names=['Não Sobe', 'Sobe']))"
   ]
  },
  {
   "cell_type": "code",
   "execution_count": null,
   "id": "85430125",
   "metadata": {},
   "outputs": [
    {
     "name": "stdout",
     "output_type": "stream",
     "text": [
      "--- Executando Testes alternativos com ExtraTreesClassifier ---\n",
      "\n",
      "Relatório de Classificação do ExtraTreesClassifier:\n",
      "              precision    recall  f1-score   support\n",
      "\n",
      "    Não Sobe       0.52      0.30      0.38      7016\n",
      "        Sobe       0.51      0.72      0.60      6989\n",
      "\n",
      "    accuracy                           0.51     14005\n",
      "   macro avg       0.51      0.51      0.49     14005\n",
      "weighted avg       0.51      0.51      0.49     14005\n",
      "\n"
     ]
    }
   ],
   "source": [
    "from sklearn.ensemble import ExtraTreesClassifier\n",
    "from sklearn.metrics import classification_report\n",
    "\n",
    "print(\"--- Executando Testes alternativos com ExtraTreesClassifier ---\")\n",
    "\n",
    "# Crie e treine o modelo\n",
    "rf_model = ExtraTreesClassifier(\n",
    "    n_estimators=200,         # Número de árvores na floresta\n",
    "    max_depth=6,              # Profundidade máxima das árvores (ajuda a evitar overfitting)\n",
    "    max_features='sqrt',      # Número de features consideradas em cada split\n",
    "    min_samples_split=5,      # Mínimo de amostras para dividir um nó interno\n",
    "    min_samples_leaf=3,       # Mínimo de amostras em cada folha\n",
    "    class_weight='balanced',  # Balanceia as classes automaticamente\n",
    "    n_jobs=-1,                # Usa todos os núcleos disponíveis\n",
    "    random_state=42           # Reprodutibilidade\n",
    ")\n",
    "rf_model.fit(X_train, y_train)\n",
    "\n",
    "# Faça previsões\n",
    "rf_predictions = rf_model.predict(X_test)\n",
    "# Avalie o resultado\n",
    "print(\"\\nRelatório de Classificação do ExtraTreesClassifier:\")\n",
    "print(classification_report(y_test, rf_predictions, target_names=['Não Sobe', 'Sobe']))"
   ]
  }
 ],
 "metadata": {
  "kernelspec": {
   "display_name": "Python 3",
   "language": "python",
   "name": "python3"
  },
  "language_info": {
   "codemirror_mode": {
    "name": "ipython",
    "version": 3
   },
   "file_extension": ".py",
   "mimetype": "text/x-python",
   "name": "python",
   "nbconvert_exporter": "python",
   "pygments_lexer": "ipython3",
   "version": "3.12.10"
  }
 },
 "nbformat": 4,
 "nbformat_minor": 5
}
