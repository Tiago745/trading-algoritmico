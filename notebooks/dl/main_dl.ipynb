{
 "cells": [
  {
   "cell_type": "markdown",
   "id": "d9c50c8d",
   "metadata": {},
   "source": [
    "# XGBoost para classificação da direção de criptos"
   ]
  },
  {
   "cell_type": "code",
   "execution_count": null,
   "id": "8560c0ef",
   "metadata": {},
   "outputs": [],
   "source": [
    "import xgboost as xgb\n",
    "import pandas as pd\n",
    "import numpy as np\n",
    "from sklearn.model_selection import TimeSeriesSplit\n",
    "from sklearn.metrics import accuracy_score, confusion_matrix, precision_score, recall_score, f1_score\n",
    "from sklearn.preprocessing import StandardScaler\n",
    "import matplotlib.pyplot as plt\n",
    "import seaborn as sns"
   ]
  },
  {
   "cell_type": "code",
   "execution_count": null,
   "id": "99ba5971",
   "metadata": {},
   "outputs": [],
   "source": [
    "# Leitura dos dados\n",
    "symbol = 'BTCUSDT'\n",
    "period = '5m'\n",
    "df = pd.read_csv(f'../../data/fechamentos/{symbol}_{period}_data.csv')\n",
    "\n",
    "df.set_index('timestamp', inplace=True)\n",
    "df.index = pd.to_datetime(df.index)"
   ]
  },
  {
   "cell_type": "code",
   "execution_count": null,
   "id": "e3f8eb8e",
   "metadata": {},
   "outputs": [],
   "source": [
    "# Preparação dos dados para classificação\n",
    "df['target'] = np.where(df['close'].shift(-1) > df['close'], 1, 0)  # 1 para alta, 0 para baixa\n",
    "df.dropna(inplace=True) \n",
    "\n",
    "# Construção das features\n",
    "def create_features(df):\n",
    "    df = df.copy()\n",
    "    epsilon = 1e-10  # Para evitar divisão por zero em contas com divisão\n",
    "\n",
    "    df['return'] = df['close'].pct_change()\n",
    "    df['volatility'] = df['return'].rolling(window=5).std()\n",
    "\n",
    "    df['momentum_5'] = df['close'].diff(5)\n",
    "    df['momentum_10'] = df['close'].diff(10)\n",
    "    df['momentum_20'] = df['close'].diff(20)\n",
    "\n",
    "    def williams_r(high, low, close, period=14):\n",
    "        highest_high = high.rolling(window=period).max()\n",
    "        lowest_low = low.rolling(window=period).min()\n",
    "        return ((highest_high - close) / (highest_high - lowest_low + epsilon)) * -100\n",
    "    df['williams_r'] = williams_r(df['high'], df['low'], df['close'])\n",
    "\n",
    "    def rsi(close, period=14):\n",
    "        delta = close.diff()\n",
    "        gain = delta.clip(lower=0)\n",
    "        loss = -delta.clip(upper=0)\n",
    "\n",
    "        avg_gain = gain.ewm(alpha=1/period, min_periods=period, adjust=False).mean()\n",
    "        avg_loss = loss.ewm(alpha=1/period, min_periods=period, adjust=False).mean()\n",
    "\n",
    "        rs = avg_gain / (avg_loss + epsilon)\n",
    "        return 100 - (100 / (1 + rs))\n",
    "    df['rsi_7'] = rsi(df['close'], period=7)\n",
    "    df['rsi_14'] = rsi(df['close'], period=14)\n",
    "\n",
    "    df['ema_12'] = df['close'].ewm(span=12, adjust=False).mean()\n",
    "    df['ema_26'] = df['close'].ewm(span=26, adjust=False).mean()\n",
    "    df['macd'] = df['ema_12'] - df['ema_26']\n",
    "    \n",
    "    df['price_change'] = df['close'].diff()\n",
    "    df['price_trend'] = df['close'].rolling(window=10).mean()\n",
    "\n",
    "    df['volume_change'] = df['volume'].pct_change()\n",
    "    df['volume_trend'] = df['volume'].rolling(window=10).mean()\n",
    "    \n",
    "    df['hour'] = df.index.hour\n",
    "    df['day_of_week'] = df.index.dayofweek\n",
    "    \n",
    "    df.dropna(inplace=True)\n",
    "    return df\n",
    "\n",
    "# Aplicação da função\n",
    "df = create_features(df)\n",
    "df = df.drop(columns=['open', 'high', 'low', 'volume'])"
   ]
  },
  {
   "cell_type": "code",
   "execution_count": null,
   "id": "bd52f1b9",
   "metadata": {},
   "outputs": [],
   "source": [
    "# Divisão dos dados em treino e teste\n",
    "tsv = TimeSeriesSplit(n_splits=5)\n",
    "for train_index, test_index in tsv.split(df):\n",
    "    X_train, X_test = df.iloc[train_index].drop(columns=['target']), df.iloc[test_index].drop(columns=['target'])\n",
    "    y_train, y_test = df.iloc[train_index]['target'], df.iloc[test_index]['target']\n"
   ]
  },
  {
   "cell_type": "code",
   "execution_count": null,
   "id": "6380e13d",
   "metadata": {},
   "outputs": [],
   "source": [
    "# Visualização da divisão dos dados\n",
    "fig, ax = plt.subplots(figsize=(15, 5))\n",
    "X_train['close'].plot(ax=ax, label='Dados de treino', title='Divisão dos Dados')\n",
    "X_test['close'].plot(ax=ax, label='Dados de teste')\n",
    "ax.legend(['Dados de treino', 'Dados de teste'])\n",
    "plt.show()"
   ]
  },
  {
   "cell_type": "code",
   "execution_count": null,
   "id": "ab8ffa33",
   "metadata": {},
   "outputs": [],
   "source": [
    "# Criação do modelo XGBoost\n",
    "model = xgb.XGBClassifier(n_estimators=10000, objective='binary:logistic', learning_rate=0.001, max_depth=7, early_stopping_rounds=10, random_state=1)\n",
    "model.fit(X_train, y_train, eval_set=[(X_test, y_test)], verbose=100)"
   ]
  },
  {
   "cell_type": "code",
   "execution_count": null,
   "id": "680437bc",
   "metadata": {},
   "outputs": [],
   "source": [
    "# Visualização da importância das features\n",
    "fi = pd.DataFrame(data=model.feature_importances_,\n",
    "             index=model.feature_names_in_,\n",
    "             columns=['importance'])\n",
    "fi.sort_values('importance').plot(kind='barh', title='Feature Importance')\n",
    "plt.show()"
   ]
  },
  {
   "cell_type": "code",
   "execution_count": null,
   "id": "5495e4d4",
   "metadata": {},
   "outputs": [],
   "source": [
    "# Visualização da matriz de confusão\n",
    "y_pred = model.predict(X_test)\n",
    "acc = accuracy_score(y_test, y_pred)\n",
    "print(f'Acurácia: {acc*100:.2f}%')\n",
    "\n",
    "prec = precision_score(y_test, y_pred)\n",
    "print(f'Precisão: {prec*100:.2f}%')\n",
    "\n",
    "f1 = f1_score(y_test, y_pred)\n",
    "print(f'F1 Score: {f1*100:.2f}%')\n",
    "\n",
    "recall = recall_score(y_test, y_pred)\n",
    "print(f'Recall: {recall*100:.2f}%')\n",
    "\n",
    "cm = confusion_matrix(y_test, y_pred)\n",
    "sns.heatmap(cm, annot=True, fmt='d', cmap='Blues', xticklabels=['Baixa', 'Alta'], yticklabels=['Baixa', 'Alta'])\n",
    "plt.title('Matriz de Confusão')"
   ]
  }
 ],
 "metadata": {
  "kernelspec": {
   "display_name": "venv",
   "language": "python",
   "name": "python3"
  },
  "language_info": {
   "codemirror_mode": {
    "name": "ipython",
    "version": 3
   },
   "file_extension": ".py",
   "mimetype": "text/x-python",
   "name": "python",
   "nbconvert_exporter": "python",
   "pygments_lexer": "ipython3",
   "version": "3.12.10"
  }
 },
 "nbformat": 4,
 "nbformat_minor": 5
}
